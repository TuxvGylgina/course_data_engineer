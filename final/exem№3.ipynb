{
 "cells": [
  {
   "cell_type": "code",
   "execution_count": 1,
   "id": "53510575",
   "metadata": {
    "scrolled": true
   },
   "outputs": [
    {
     "name": "stdout",
     "output_type": "stream",
     "text": [
      "Defaulting to user installation because normal site-packages is not writeable\n",
      "Requirement already satisfied: pandas in /opt/tljh/user/lib/python3.9/site-packages (1.5.2)\n",
      "Requirement already satisfied: python-dateutil>=2.8.1 in /opt/tljh/user/lib/python3.9/site-packages (from pandas) (2.8.2)\n",
      "Requirement already satisfied: pytz>=2020.1 in /opt/tljh/user/lib/python3.9/site-packages (from pandas) (2022.6)\n",
      "Requirement already satisfied: numpy>=1.20.3 in /opt/tljh/user/lib/python3.9/site-packages (from pandas) (1.23.5)\n",
      "Requirement already satisfied: six>=1.5 in /opt/tljh/user/lib/python3.9/site-packages (from python-dateutil>=2.8.1->pandas) (1.16.0)\n",
      "Defaulting to user installation because normal site-packages is not writeable\n",
      "Requirement already satisfied: pyyaml in /opt/tljh/user/lib/python3.9/site-packages (6.0)\n",
      "Requirement already satisfied: ua-parser in ./.local/lib/python3.9/site-packages (0.16.1)\n",
      "Requirement already satisfied: user-agents in ./.local/lib/python3.9/site-packages (2.2.0)\n"
     ]
    }
   ],
   "source": [
    "# импорт библиотек,модулей\n",
    "import re\n",
    "from pyspark.sql import SparkSession\n",
    "from pyspark.sql import Row, Window\n",
    "import pyspark.sql.types as T   \n",
    "from pyspark.sql.functions import *\n",
    "import pyspark.sql.functions as F\n",
    "from datetime import date\n",
    "!pip install pandas\n",
    "import pandas as pd\n",
    "!pip install pyyaml ua-parser user-agents\n",
    "from user_agents import parse"
   ]
  },
  {
   "cell_type": "code",
   "execution_count": 2,
   "id": "6a31ffcc",
   "metadata": {
    "scrolled": false
   },
   "outputs": [
    {
     "name": "stdout",
     "output_type": "stream",
     "text": [
      "23/01/17 21:14:58 WARN Utils: Your hostname, data-analysis resolves to a loopback address: 127.0.1.1; using 146.120.224.166 instead (on interface ens160)\n",
      "23/01/17 21:14:58 WARN Utils: Set SPARK_LOCAL_IP if you need to bind to another address\n"
     ]
    },
    {
     "name": "stderr",
     "output_type": "stream",
     "text": [
      "Setting default log level to \"WARN\".\n",
      "To adjust logging level use sc.setLogLevel(newLevel). For SparkR, use setLogLevel(newLevel).\n"
     ]
    },
    {
     "name": "stdout",
     "output_type": "stream",
     "text": [
      "23/01/17 21:14:59 WARN NativeCodeLoader: Unable to load native-hadoop library for your platform... using builtin-java classes where applicable\n"
     ]
    }
   ],
   "source": [
    "# запуск spark сессии\n",
    "\n",
    "spark = SparkSession.builder\\\n",
    "      .appName(\"Exem_work\")\\\n",
    "      .config(\"spark.driver.bindAddress\",\"localhost\") \\\n",
    "      .config(\"spark.ui.port\",\"4040\") \\\n",
    "      .config(\"spark.driver.memory\", \"15g\")\\\n",
    "      .getOrCreate()\n",
    "spark.sparkContext.setLogLevel('WARN')"
   ]
  },
  {
   "cell_type": "code",
   "execution_count": 3,
   "id": "816381c0",
   "metadata": {},
   "outputs": [],
   "source": [
    "# cоздаем схему будущего фрейма данных для LOG файла\n",
    "\n",
    "sxemaL = T.StructType(fields=[\n",
    "    T.StructField(\"client_ip\", T.StringType(), True),\n",
    "    T.StructField(\"type1\", T.StringType(), True),\n",
    "    T.StructField(\"type2\", T.StringType(), True),\n",
    "    T.StructField(\"dateO\", T.StringType(), True),\n",
    "    T.StructField(\"dateO1\", T.StringType(), True),\n",
    "    T.StructField(\"act\", T.StringType (), True),\n",
    "    T.StructField(\"status\", T.IntegerType (), True),\n",
    "    T.StructField(\"size\", T.IntegerType (), True),\n",
    "    T.StructField(\"type3\", T.StringType (), True),\n",
    "    T.StructField(\"user_agent\", T.StringType (), True),\n",
    "    T.StructField(\"type4\", T.StringType (), True)\n",
    "])"
   ]
  },
  {
   "cell_type": "code",
   "execution_count": 4,
   "id": "e9c76ad6",
   "metadata": {},
   "outputs": [
    {
     "name": "stdout",
     "output_type": "stream",
     "text": [
      "+-------------+-----+-----+--------------------+------+--------------------+------+-----+--------------------+--------------------+-----+\n",
      "|    client_ip|type1|type2|               dateO|dateO1|                 act|status| size|               type3|          user_agent|type4|\n",
      "+-------------+-----+-----+--------------------+------+--------------------+------+-----+--------------------+--------------------+-----+\n",
      "| 54.36.149.41|    -|    -|[22/Jan/2019:03:5...|+0330]|GET /filter/27|13...|   200|30577|                   -|Mozilla/5.0 (comp...|    -|\n",
      "|  31.56.96.51|    -|    -|[22/Jan/2019:03:5...|+0330]|GET /image/60844/...|   200| 5667|https://www.zanbi...|Mozilla/5.0 (Linu...|    -|\n",
      "|  31.56.96.51|    -|    -|[22/Jan/2019:03:5...|+0330]|GET /image/61474/...|   200| 5379|https://www.zanbi...|Mozilla/5.0 (Linu...|    -|\n",
      "|40.77.167.129|    -|    -|[22/Jan/2019:03:5...|+0330]|GET /image/14925/...|   200| 1696|                   -|Mozilla/5.0 (comp...|    -|\n",
      "|  91.99.72.15|    -|    -|[22/Jan/2019:03:5...|+0330]|GET /product/3189...|   200|41483|                   -|Mozilla/5.0 (Wind...|    -|\n",
      "|40.77.167.129|    -|    -|[22/Jan/2019:03:5...|+0330]|GET /image/23488/...|   200| 2654|                   -|Mozilla/5.0 (comp...|    -|\n",
      "|40.77.167.129|    -|    -|[22/Jan/2019:03:5...|+0330]|GET /image/45437/...|   200| 3688|                   -|Mozilla/5.0 (comp...|    -|\n",
      "|40.77.167.129|    -|    -|[22/Jan/2019:03:5...|+0330]|GET /image/576/ar...|   200|14776|                   -|Mozilla/5.0 (comp...|    -|\n",
      "|66.249.66.194|    -|    -|[22/Jan/2019:03:5...|+0330]|GET /filter/b41,b...|   200|34277|                   -|Mozilla/5.0 (comp...|    -|\n",
      "|40.77.167.129|    -|    -|[22/Jan/2019:03:5...|+0330]|GET /image/57710/...|   200| 1695|                   -|Mozilla/5.0 (comp...|    -|\n",
      "|207.46.13.136|    -|    -|[22/Jan/2019:03:5...|+0330]|GET /product/1021...|   200|39677|                   -|Mozilla/5.0 (comp...|    -|\n",
      "|40.77.167.129|    -|    -|[22/Jan/2019:03:5...|+0330]|GET /image/578/ar...|   200| 9831|                   -|Mozilla/5.0 (comp...|    -|\n",
      "|178.253.33.51|    -|    -|[22/Jan/2019:03:5...|+0330]|GET /m/product/32...|   200|20406|https://www.zanbi...|Mozilla/5.0 (Linu...|    -|\n",
      "|40.77.167.129|    -|    -|[22/Jan/2019:03:5...|+0330]|GET /image/6229/p...|   200| 1796|                   -|Mozilla/5.0 (comp...|    -|\n",
      "|  91.99.72.15|    -|    -|[22/Jan/2019:03:5...|+0330]|GET /product/1007...|   200|41725|                   -|Mozilla/5.0 (X11;...|    -|\n",
      "|40.77.167.129|    -|    -|[22/Jan/2019:03:5...|+0330]|GET /image/6229/p...|   200| 2739|                   -|Mozilla/5.0 (comp...|    -|\n",
      "|207.46.13.136|    -|    -|[22/Jan/2019:03:5...|+0330]|GET /product/1492...|   404|33617|                   -|Mozilla/5.0 (comp...|    -|\n",
      "|40.77.167.129|    -|    -|[22/Jan/2019:03:5...|+0330]|GET /image/6248/p...|   200| 2788|                   -|Mozilla/5.0 (comp...|    -|\n",
      "|40.77.167.129|    -|    -|[22/Jan/2019:03:5...|+0330]|GET /image/64815/...|   200| 3481|                   -|Mozilla/5.0 (comp...|    -|\n",
      "|66.249.66.194|    -|    -|[22/Jan/2019:03:5...|+0330]|GET /m/filter/b2,...|   200|19451|                   -|Mozilla/5.0 (Linu...|    -|\n",
      "+-------------+-----+-----+--------------------+------+--------------------+------+-----+--------------------+--------------------+-----+\n",
      "only showing top 20 rows\n",
      "\n"
     ]
    }
   ],
   "source": [
    "# LOG файл \n",
    "\n",
    "LOG_f = \"access.log\"\n",
    "dfL = spark.read.csv(LOG_f, schema=sxemaL, sep=\" \")\n",
    "dfL.show(20)"
   ]
  },
  {
   "cell_type": "code",
   "execution_count": 5,
   "id": "f8e601ae",
   "metadata": {},
   "outputs": [
    {
     "name": "stderr",
     "output_type": "stream",
     "text": [
      "[Stage 1:======================================>                  (18 + 9) / 27]\r"
     ]
    },
    {
     "name": "stdout",
     "output_type": "stream",
     "text": [
      "+--------------+-----+\n",
      "|     client_ip|activ|\n",
      "+--------------+-----+\n",
      "|  5.218.93.230|    1|\n",
      "|   2.185.49.67|    1|\n",
      "|  5.122.114.53|    1|\n",
      "|   5.209.8.195|    1|\n",
      "| 92.114.74.215|    1|\n",
      "|   94.24.82.90|    1|\n",
      "|   5.114.34.49|    1|\n",
      "|   5.125.15.32|    1|\n",
      "|158.58.127.196|    1|\n",
      "|89.199.164.111|    1|\n",
      "|   5.212.88.52|    1|\n",
      "|  5.213.27.116|    1|\n",
      "|  5.121.145.67|    1|\n",
      "|   5.127.24.27|    1|\n",
      "|  5.219.195.80|    1|\n",
      "|  5.119.164.31|    1|\n",
      "|   5.123.70.37|    1|\n",
      "|   5.125.46.18|    1|\n",
      "|  31.56.197.61|    1|\n",
      "|113.203.11.180|    1|\n",
      "+--------------+-----+\n",
      "only showing top 20 rows\n",
      "\n"
     ]
    },
    {
     "name": "stderr",
     "output_type": "stream",
     "text": [
      "                                                                                \r"
     ]
    }
   ],
   "source": [
    "# проверяем значения по столбцу client_ip\n",
    "\n",
    "dfL.groupby(\"client_ip\")\\\n",
    "   .agg(F.count(\"*\").alias(\"activ\"))\\\n",
    "   .orderBy(\"activ\", ascending = True)\\\n",
    "   .show()\n"
   ]
  },
  {
   "cell_type": "code",
   "execution_count": 6,
   "id": "6aaea7ca",
   "metadata": {},
   "outputs": [
    {
     "name": "stderr",
     "output_type": "stream",
     "text": [
      "[Stage 4:===================================>                    (17 + 10) / 27]\r"
     ]
    },
    {
     "name": "stdout",
     "output_type": "stream",
     "text": [
      "+----------+\n",
      "|sum(activ)|\n",
      "+----------+\n",
      "|  10365152|\n",
      "+----------+\n",
      "\n"
     ]
    },
    {
     "name": "stderr",
     "output_type": "stream",
     "text": [
      "                                                                                \r"
     ]
    }
   ],
   "source": [
    " dfL.groupby(\"client_ip\")\\\n",
    "    .agg(F.count(\"*\").alias(\"activ\"))\\\n",
    "    .orderBy(\"activ\", ascending = False)\\\n",
    "    .agg(F.sum(\"activ\"))\\\n",
    "    .show()"
   ]
  },
  {
   "cell_type": "code",
   "execution_count": 7,
   "id": "249f9062",
   "metadata": {},
   "outputs": [
    {
     "name": "stdout",
     "output_type": "stream",
     "text": [
      "+-------------+--------------------+--------------------+------+-----+--------------------+\n",
      "|    client_ip|               dateO|                 act|status| size|          user_agent|\n",
      "+-------------+--------------------+--------------------+------+-----+--------------------+\n",
      "| 54.36.149.41|[22/Jan/2019:03:5...|GET /filter/27|13...|   200|30577|Mozilla/5.0 (comp...|\n",
      "|  31.56.96.51|[22/Jan/2019:03:5...|GET /image/60844/...|   200| 5667|Mozilla/5.0 (Linu...|\n",
      "|  31.56.96.51|[22/Jan/2019:03:5...|GET /image/61474/...|   200| 5379|Mozilla/5.0 (Linu...|\n",
      "|40.77.167.129|[22/Jan/2019:03:5...|GET /image/14925/...|   200| 1696|Mozilla/5.0 (comp...|\n",
      "|  91.99.72.15|[22/Jan/2019:03:5...|GET /product/3189...|   200|41483|Mozilla/5.0 (Wind...|\n",
      "|40.77.167.129|[22/Jan/2019:03:5...|GET /image/23488/...|   200| 2654|Mozilla/5.0 (comp...|\n",
      "|40.77.167.129|[22/Jan/2019:03:5...|GET /image/45437/...|   200| 3688|Mozilla/5.0 (comp...|\n",
      "|40.77.167.129|[22/Jan/2019:03:5...|GET /image/576/ar...|   200|14776|Mozilla/5.0 (comp...|\n",
      "|66.249.66.194|[22/Jan/2019:03:5...|GET /filter/b41,b...|   200|34277|Mozilla/5.0 (comp...|\n",
      "|40.77.167.129|[22/Jan/2019:03:5...|GET /image/57710/...|   200| 1695|Mozilla/5.0 (comp...|\n",
      "|207.46.13.136|[22/Jan/2019:03:5...|GET /product/1021...|   200|39677|Mozilla/5.0 (comp...|\n",
      "|40.77.167.129|[22/Jan/2019:03:5...|GET /image/578/ar...|   200| 9831|Mozilla/5.0 (comp...|\n",
      "|178.253.33.51|[22/Jan/2019:03:5...|GET /m/product/32...|   200|20406|Mozilla/5.0 (Linu...|\n",
      "|40.77.167.129|[22/Jan/2019:03:5...|GET /image/6229/p...|   200| 1796|Mozilla/5.0 (comp...|\n",
      "|  91.99.72.15|[22/Jan/2019:03:5...|GET /product/1007...|   200|41725|Mozilla/5.0 (X11;...|\n",
      "|40.77.167.129|[22/Jan/2019:03:5...|GET /image/6229/p...|   200| 2739|Mozilla/5.0 (comp...|\n",
      "|207.46.13.136|[22/Jan/2019:03:5...|GET /product/1492...|   404|33617|Mozilla/5.0 (comp...|\n",
      "|40.77.167.129|[22/Jan/2019:03:5...|GET /image/6248/p...|   200| 2788|Mozilla/5.0 (comp...|\n",
      "|40.77.167.129|[22/Jan/2019:03:5...|GET /image/64815/...|   200| 3481|Mozilla/5.0 (comp...|\n",
      "|66.249.66.194|[22/Jan/2019:03:5...|GET /m/filter/b2,...|   200|19451|Mozilla/5.0 (Linu...|\n",
      "+-------------+--------------------+--------------------+------+-----+--------------------+\n",
      "only showing top 20 rows\n",
      "\n"
     ]
    }
   ],
   "source": [
    "# убираем столбцы которые не несут в себе полезной информации\n",
    "\n",
    "df1 = dfL.drop(\"type1\", \"type2\", \"dateO1\", \"type3\", \"type4\")\n",
    "df1.show(20)"
   ]
  },
  {
   "cell_type": "code",
   "execution_count": 8,
   "id": "ed7ab6ae",
   "metadata": {},
   "outputs": [
    {
     "name": "stderr",
     "output_type": "stream",
     "text": [
      "                                                                                \r"
     ]
    },
    {
     "data": {
      "text/plain": [
       "10365152"
      ]
     },
     "execution_count": 8,
     "metadata": {},
     "output_type": "execute_result"
    }
   ],
   "source": [
    "df1.count()"
   ]
  },
  {
   "cell_type": "code",
   "execution_count": 9,
   "id": "ea204bb6",
   "metadata": {},
   "outputs": [
    {
     "name": "stdout",
     "output_type": "stream",
     "text": [
      "root\n",
      " |-- client_ip: string (nullable = true)\n",
      " |-- dateO: string (nullable = true)\n",
      " |-- act: string (nullable = true)\n",
      " |-- status: integer (nullable = true)\n",
      " |-- size: integer (nullable = true)\n",
      " |-- user_agent: string (nullable = true)\n",
      "\n"
     ]
    }
   ],
   "source": [
    "df1.printSchema()"
   ]
  },
  {
   "cell_type": "code",
   "execution_count": 10,
   "id": "8f5a9cd4",
   "metadata": {},
   "outputs": [],
   "source": [
    "# т.к. client_ip не является первичным ключом и нам необходимо его создать самим. \n",
    "# Для этого добавим столбец log_id с нумерацией строк."
   ]
  },
  {
   "cell_type": "code",
   "execution_count": 11,
   "id": "bd38d14a",
   "metadata": {
    "scrolled": true
   },
   "outputs": [],
   "source": [
    "df11 = df1.withColumn(\"log_id\", monotonically_increasing_id())"
   ]
  },
  {
   "cell_type": "code",
   "execution_count": 12,
   "id": "a423544f",
   "metadata": {
    "scrolled": true
   },
   "outputs": [
    {
     "name": "stdout",
     "output_type": "stream",
     "text": [
      "+-------------+--------------------+--------------------+------+-----+--------------------+------+\n",
      "|    client_ip|               dateO|                 act|status| size|          user_agent|log_id|\n",
      "+-------------+--------------------+--------------------+------+-----+--------------------+------+\n",
      "| 54.36.149.41|[22/Jan/2019:03:5...|GET /filter/27|13...|   200|30577|Mozilla/5.0 (comp...|     0|\n",
      "|  31.56.96.51|[22/Jan/2019:03:5...|GET /image/60844/...|   200| 5667|Mozilla/5.0 (Linu...|     1|\n",
      "|  31.56.96.51|[22/Jan/2019:03:5...|GET /image/61474/...|   200| 5379|Mozilla/5.0 (Linu...|     2|\n",
      "|40.77.167.129|[22/Jan/2019:03:5...|GET /image/14925/...|   200| 1696|Mozilla/5.0 (comp...|     3|\n",
      "|  91.99.72.15|[22/Jan/2019:03:5...|GET /product/3189...|   200|41483|Mozilla/5.0 (Wind...|     4|\n",
      "|40.77.167.129|[22/Jan/2019:03:5...|GET /image/23488/...|   200| 2654|Mozilla/5.0 (comp...|     5|\n",
      "|40.77.167.129|[22/Jan/2019:03:5...|GET /image/45437/...|   200| 3688|Mozilla/5.0 (comp...|     6|\n",
      "|40.77.167.129|[22/Jan/2019:03:5...|GET /image/576/ar...|   200|14776|Mozilla/5.0 (comp...|     7|\n",
      "|66.249.66.194|[22/Jan/2019:03:5...|GET /filter/b41,b...|   200|34277|Mozilla/5.0 (comp...|     8|\n",
      "|40.77.167.129|[22/Jan/2019:03:5...|GET /image/57710/...|   200| 1695|Mozilla/5.0 (comp...|     9|\n",
      "|207.46.13.136|[22/Jan/2019:03:5...|GET /product/1021...|   200|39677|Mozilla/5.0 (comp...|    10|\n",
      "|40.77.167.129|[22/Jan/2019:03:5...|GET /image/578/ar...|   200| 9831|Mozilla/5.0 (comp...|    11|\n",
      "|178.253.33.51|[22/Jan/2019:03:5...|GET /m/product/32...|   200|20406|Mozilla/5.0 (Linu...|    12|\n",
      "|40.77.167.129|[22/Jan/2019:03:5...|GET /image/6229/p...|   200| 1796|Mozilla/5.0 (comp...|    13|\n",
      "|  91.99.72.15|[22/Jan/2019:03:5...|GET /product/1007...|   200|41725|Mozilla/5.0 (X11;...|    14|\n",
      "|40.77.167.129|[22/Jan/2019:03:5...|GET /image/6229/p...|   200| 2739|Mozilla/5.0 (comp...|    15|\n",
      "|207.46.13.136|[22/Jan/2019:03:5...|GET /product/1492...|   404|33617|Mozilla/5.0 (comp...|    16|\n",
      "|40.77.167.129|[22/Jan/2019:03:5...|GET /image/6248/p...|   200| 2788|Mozilla/5.0 (comp...|    17|\n",
      "|40.77.167.129|[22/Jan/2019:03:5...|GET /image/64815/...|   200| 3481|Mozilla/5.0 (comp...|    18|\n",
      "|66.249.66.194|[22/Jan/2019:03:5...|GET /m/filter/b2,...|   200|19451|Mozilla/5.0 (Linu...|    19|\n",
      "+-------------+--------------------+--------------------+------+-----+--------------------+------+\n",
      "only showing top 20 rows\n",
      "\n"
     ]
    }
   ],
   "source": [
    "df11.show()"
   ]
  },
  {
   "cell_type": "code",
   "execution_count": 13,
   "id": "93dafd4b",
   "metadata": {
    "scrolled": true
   },
   "outputs": [
    {
     "name": "stdout",
     "output_type": "stream",
     "text": [
      "+---------------------+\n",
      "|                dateO|\n",
      "+---------------------+\n",
      "|[22/Jan/2019:03:56:14|\n",
      "|[22/Jan/2019:03:56:16|\n",
      "+---------------------+\n",
      "\n"
     ]
    }
   ],
   "source": [
    "# смотрим формат дат и приводим к виду Y-M-D\n",
    "df11.select(\"dateO\").limit(2).show(truncate = 100)"
   ]
  },
  {
   "cell_type": "code",
   "execution_count": 14,
   "id": "ff10658c",
   "metadata": {},
   "outputs": [],
   "source": [
    "from dateutil import parser\n",
    "\n",
    "@F.udf(T.DateType())\n",
    "def change_date_format(x):\n",
    "    return parser.parse(x.replace(\":\", \" \", 1))"
   ]
  },
  {
   "cell_type": "code",
   "execution_count": 15,
   "id": "3fe1c904",
   "metadata": {
    "scrolled": true
   },
   "outputs": [],
   "source": [
    " df2 = df11.select(F.regexp_replace(F.col(\"dateO\"), \"\\[\", \"\").alias(\"date\"),\"log_id\" )\\\n",
    "          .select(change_date_format(F.col('date')).alias(\"date\"), \"log_id\")"
   ]
  },
  {
   "cell_type": "code",
   "execution_count": 16,
   "id": "463d10ea",
   "metadata": {
    "scrolled": false
   },
   "outputs": [
    {
     "name": "stderr",
     "output_type": "stream",
     "text": [
      "[Stage 16:>                                                         (0 + 1) / 1]\r"
     ]
    },
    {
     "name": "stdout",
     "output_type": "stream",
     "text": [
      "+----------+------+\n",
      "|      date|log_id|\n",
      "+----------+------+\n",
      "|2019-01-22|     0|\n",
      "|2019-01-22|     1|\n",
      "|2019-01-22|     2|\n",
      "|2019-01-22|     3|\n",
      "|2019-01-22|     4|\n",
      "|2019-01-22|     5|\n",
      "|2019-01-22|     6|\n",
      "|2019-01-22|     7|\n",
      "|2019-01-22|     8|\n",
      "|2019-01-22|     9|\n",
      "|2019-01-22|    10|\n",
      "|2019-01-22|    11|\n",
      "|2019-01-22|    12|\n",
      "|2019-01-22|    13|\n",
      "|2019-01-22|    14|\n",
      "|2019-01-22|    15|\n",
      "|2019-01-22|    16|\n",
      "|2019-01-22|    17|\n",
      "|2019-01-22|    18|\n",
      "|2019-01-22|    19|\n",
      "+----------+------+\n",
      "only showing top 20 rows\n",
      "\n"
     ]
    },
    {
     "name": "stderr",
     "output_type": "stream",
     "text": [
      "                                                                                \r"
     ]
    }
   ],
   "source": [
    "df2.show(truncate = 100)"
   ]
  },
  {
   "cell_type": "code",
   "execution_count": 17,
   "id": "c3603419",
   "metadata": {},
   "outputs": [
    {
     "name": "stderr",
     "output_type": "stream",
     "text": [
      "                                                                                \r"
     ]
    },
    {
     "data": {
      "text/plain": [
       "10365152"
      ]
     },
     "execution_count": 17,
     "metadata": {},
     "output_type": "execute_result"
    }
   ],
   "source": [
    "df2.count()"
   ]
  },
  {
   "cell_type": "code",
   "execution_count": 18,
   "id": "8b5a78ee",
   "metadata": {},
   "outputs": [
    {
     "name": "stderr",
     "output_type": "stream",
     "text": [
      "[Stage 21:===============================================>        (23 + 4) / 27]\r"
     ]
    },
    {
     "name": "stdout",
     "output_type": "stream",
     "text": [
      "+------------+----------+---------------+--------------------+--------------------+------+------+--------------------+\n",
      "|      log_id|      date|      client_ip|               dateO|                 act|status|  size|          user_agent|\n",
      "+------------+----------+---------------+--------------------+--------------------+------+------+--------------------+\n",
      "|           0|2019-01-22|   54.36.149.41|[22/Jan/2019:03:5...|GET /filter/27|13...|   200| 30577|Mozilla/5.0 (comp...|\n",
      "|           7|2019-01-22|  40.77.167.129|[22/Jan/2019:03:5...|GET /image/576/ar...|   200| 14776|Mozilla/5.0 (comp...|\n",
      "|          19|2019-01-22|  66.249.66.194|[22/Jan/2019:03:5...|GET /m/filter/b2,...|   200| 19451|Mozilla/5.0 (Linu...|\n",
      "|          22|2019-01-22|   66.249.66.91|[22/Jan/2019:03:5...|GET /filter/b874%...|   200| 39660|Mozilla/5.0 (comp...|\n",
      "|          26|2019-01-22|    5.78.198.52|[22/Jan/2019:03:5...|GET /m/product/33...|   200| 21931|Mozilla/5.0 (Linu...|\n",
      "|          29|2019-01-22|    91.99.72.15|[22/Jan/2019:03:5...|GET /product/7793...|   200| 40889|Mozilla/5.0 (X11;...|\n",
      "|          54|2019-01-22|   66.249.66.91|[22/Jan/2019:03:5...|GET /image/26027?...|   200|  6642| Googlebot-Image/1.0|\n",
      "|          65|2019-01-22|  66.111.54.249|[22/Jan/2019:03:5...|GET /static/image...|   200|  6454|Mozilla/5.0 (Linu...|\n",
      "|          77|2019-01-22|    5.78.198.52|[22/Jan/2019:03:5...|POST /m/updateVar...|   200|   394|Mozilla/5.0 (Linu...|\n",
      "|  8589934592|2019-01-22|    37.148.70.6|[22/Jan/2019:10:3...|GET /image/1218/m...|   200| 91935|Mozilla/5.0 (Wind...|\n",
      "|  8589934596|2019-01-22|  66.160.188.37|[22/Jan/2019:10:3...|GET /image/56/pro...|   200|  9298|Mozilla/5.0 (Linu...|\n",
      "|  8589934599|2019-01-22|178.131.243.127|[22/Jan/2019:10:3...|GET /image/64104/...|   200|  3698|Mozilla/5.0 (Wind...|\n",
      "|  8589934627|2019-01-22|178.131.243.127|[22/Jan/2019:10:3...|GET /image/29462/...|   200|  3379|Mozilla/5.0 (Wind...|\n",
      "|  8589934658|2019-01-22| 82.145.221.230|[22/Jan/2019:10:3...|GET /image/3553?n...|   200|  7029|Opera/9.80 (Andro...|\n",
      "|  8589934681|2019-01-22|185.161.113.140|[22/Jan/2019:10:3...|GET /image/62363/...|   200|  1403|Mozilla/5.0 (Wind...|\n",
      "| 17179869191|2019-01-22|185.120.137.243|[22/Jan/2019:13:1...|GET /image/1540/p...|   200|  1988|Mozilla/5.0 (Wind...|\n",
      "| 17179869201|2019-01-22|    5.127.91.40|[22/Jan/2019:13:1...|GET /image/33632?...|   200| 56717|Mozilla/5.0 (Linu...|\n",
      "| 17179869228|2019-01-22|   66.249.66.93|[22/Jan/2019:13:1...|GET /static/css/f...|   304|     0|Mozilla/5.0 (Linu...|\n",
      "| 17179869241|2019-01-22|  5.114.167.155|[22/Jan/2019:13:1...|GET /image/%7B%7B...|   200|     5|Mozilla/5.0 (Andr...|\n",
      "| 25769803780|2019-01-22|  77.237.179.59|[22/Jan/2019:15:4...|GET /static/image...|   304|     0|Mozilla/5.0 (Linu...|\n",
      "| 25769803787|2019-01-22|    91.99.30.32|[22/Jan/2019:15:4...|GET /site/alexaGo...|   200|   323|Mozilla/5.0 (Wind...|\n",
      "| 25769803789|2019-01-22|   66.249.66.92|[22/Jan/2019:15:4...|GET /filter/b105%...|   200| 40611|Mozilla/5.0 (comp...|\n",
      "| 25769803790|2019-01-22| 185.131.89.150|[22/Jan/2019:15:4...|GET /static/image...|   200|  7713|Mozilla/5.0 (Wind...|\n",
      "| 25769803793|2019-01-22|   66.249.66.91|[22/Jan/2019:15:4...|GET /static/image...|   304|     0| Googlebot-Image/1.0|\n",
      "| 25769803812|2019-01-22| 185.131.89.150|[22/Jan/2019:15:4...|GET /static/image...|   200|   474|Mozilla/5.0 (Wind...|\n",
      "| 25769803825|2019-01-22| 185.131.89.150|[22/Jan/2019:15:4...|GET /image/8759/s...|   200| 36589|Mozilla/5.0 (Wind...|\n",
      "| 25769803828|2019-01-22|   2.177.244.15|[22/Jan/2019:15:4...|GET /image/64127/...|   200|     0|Mozilla/5.0 (Wind...|\n",
      "| 25769803830|2019-01-22|   2.177.244.15|[22/Jan/2019:15:4...|GET /image/56696/...|   200|  4947|Mozilla/5.0 (Wind...|\n",
      "| 25769803831|2019-01-22|   2.177.244.15|[22/Jan/2019:15:4...|GET /image/58310/...|   200|  4350|Mozilla/5.0 (Wind...|\n",
      "| 25769803846|2019-01-22|    91.99.30.32|[22/Jan/2019:15:4...|GET /rapidGrails/...|   200|   569|Mozilla/5.0 (Wind...|\n",
      "| 25769803852|2019-01-22|    5.121.98.71|[22/Jan/2019:15:4...|GET /image/57/pro...|   200| 13720|Mozilla/5.0 (Linu...|\n",
      "| 25769803859|2019-01-22|    5.121.98.71|[22/Jan/2019:15:4...|GET /image/55/pro...|   200| 12390|Mozilla/5.0 (Linu...|\n",
      "| 25769803871|2019-01-22| 185.131.89.150|[22/Jan/2019:15:4...|GET /image/64496/...|   200|  2315|Mozilla/5.0 (Wind...|\n",
      "| 34359738369|2019-01-22|    95.38.132.7|[22/Jan/2019:18:5...|GET /image/64721/...|   200|  2018|Mozilla/5.0 (Wind...|\n",
      "| 34359738392|2019-01-22|    5.209.85.34|[22/Jan/2019:18:5...|GET /image/58657/...|   200|  6989|Mozilla/5.0 (Linu...|\n",
      "| 34359738398|2019-01-22| 193.109.196.70|[22/Jan/2019:18:5...|GET /image/202/br...|   200|  2172|Mozilla/5.0 (Wind...|\n",
      "| 34359738411|2019-01-22| 193.109.196.70|[22/Jan/2019:18:5...|GET /image/118/br...|   200|  2301|Mozilla/5.0 (Wind...|\n",
      "| 34359738414|2019-01-22|    91.99.30.32|[22/Jan/2019:18:5...|GET /rapidGrails/...|   200|  1181|Mozilla/5.0 (Wind...|\n",
      "| 34359738429|2019-01-22|    95.38.132.7|[22/Jan/2019:18:5...|GET /static/image...|   200|  3863|Mozilla/5.0 (Wind...|\n",
      "| 34359738436|2019-01-22|    95.38.132.7|[22/Jan/2019:18:5...|GET /static/plugi...|   200| 12625|Mozilla/5.0 (Wind...|\n",
      "| 34359738454|2019-01-22| 193.109.196.70|[22/Jan/2019:18:5...|GET /image/220/br...|   200|  2283|Mozilla/5.0 (Wind...|\n",
      "| 34359738457|2019-01-22| 193.109.196.70|[22/Jan/2019:18:5...|GET /image/207/br...|   200|  2067|Mozilla/5.0 (Wind...|\n",
      "| 34359738460|2019-01-22|   5.160.220.39|[22/Jan/2019:18:5...|GET /image/4/prod...|   200| 10857|Mozilla/5.0 (Wind...|\n",
      "| 34359738463|2019-01-22|   5.160.220.39|[22/Jan/2019:18:5...|GET /static/image...|   200|  7146|Mozilla/5.0 (Wind...|\n",
      "| 42949672966|2019-01-22| 91.243.166.237|[22/Jan/2019:22:3...|GET /image/183/pr...|   200| 12608|Mozilla/5.0 (Linu...|\n",
      "| 42949672976|2019-01-22|    46.51.80.75|[22/Jan/2019:22:3...|GET /image/65019/...|   200|  7692|Mozilla/5.0 (Linu...|\n",
      "| 51539607563|2019-01-23|  46.100.62.207|[23/Jan/2019:07:5...|GET /product/3397...|   200| 43529|Mozilla/5.0 (Wind...|\n",
      "| 51539607568|2019-01-23|   54.36.148.20|[23/Jan/2019:07:5...|GET /filter/p1260...|   200| 33708|Mozilla/5.0 (comp...|\n",
      "| 51539607586|2019-01-23|  46.100.62.207|[23/Jan/2019:07:5...|GET /image/60566/...|   200|  2406|Mozilla/5.0 (Wind...|\n",
      "| 51539607590|2019-01-23|  46.100.62.207|[23/Jan/2019:07:5...|GET /image/58781/...|   200|  2610|Mozilla/5.0 (Wind...|\n",
      "| 51539607606|2019-01-23|    5.209.56.61|[23/Jan/2019:07:5...|POST /m/updateVar...|   200|   339|Mozilla/5.0 (Linu...|\n",
      "| 60129542180|2019-01-23|   81.91.136.85|[23/Jan/2019:11:1...|GET /image/10136/...|   200|    11|Mozilla/5.0 (Wind...|\n",
      "| 60129542184|2019-01-23|  2.191.231.168|[23/Jan/2019:11:1...|GET /static/image...|   200|  3032|Mozilla/5.0 (Wind...|\n",
      "| 60129542194|2019-01-23|    5.74.173.89|[23/Jan/2019:11:1...|GET /favicon.ico ...|   200|     0|Mozilla/5.0 (Linu...|\n",
      "| 60129542195|2019-01-23|  2.191.231.168|[23/Jan/2019:11:1...|GET /static/image...|   200|  1777|Mozilla/5.0 (Wind...|\n",
      "| 60129542213|2019-01-23|   5.120.166.30|[23/Jan/2019:11:1...|GET /image/816/br...|   200|  3053|Mozilla/5.0 (iPho...|\n",
      "| 68719476775|2019-01-23|    89.34.45.85|[23/Jan/2019:13:4...|GET /image/8769/s...|   200| 16378|Mozilla/5.0 (Linu...|\n",
      "| 68719476776|2019-01-23|    89.34.45.85|[23/Jan/2019:13:4...|GET /image/8764/s...|   200| 15848|Mozilla/5.0 (Linu...|\n",
      "| 68719476787|2019-01-23|   79.127.25.25|[23/Jan/2019:13:4...|GET /image/20149/...|   200|  4048|Mozilla/5.0 (Wind...|\n",
      "| 68719476798|2019-01-23|    89.34.45.85|[23/Jan/2019:13:4...|GET /image/19/bra...|   200|  2595|Mozilla/5.0 (Linu...|\n",
      "| 68719476815|2019-01-23| 204.18.168.179|[23/Jan/2019:13:4...|GET /static/css/f...|   200| 28536|Mozilla/5.0 (Linu...|\n",
      "| 68719476822|2019-01-23|   84.241.60.35|[23/Jan/2019:13:4...|GET /image/%7B%7B...|   200|     5|Mozilla/5.0 (Wind...|\n",
      "| 77309411343|2019-01-23|   37.75.247.70|[23/Jan/2019:16:2...|GET /image/58770/...|   200|  3882|Mozilla/5.0 (Wind...|\n",
      "| 77309411361|2019-01-23|    92.50.40.46|[23/Jan/2019:16:2...|GET /static/js/hi...|   200| 70590|Mozilla/5.0 (Wind...|\n",
      "| 77309411406|2019-01-23|   37.75.247.70|[23/Jan/2019:16:2...|GET /image/5384/p...|   200|  2280|Mozilla/5.0 (Wind...|\n",
      "| 85899345962|2019-01-23|   2.185.141.63|[23/Jan/2019:19:2...|GET /image/65027/...|   200|  3900|Mozilla/5.0 (Wind...|\n",
      "| 85899345970|2019-01-23|   2.185.141.63|[23/Jan/2019:19:2...|GET /image/65134/...|   200|  3835|Mozilla/5.0 (Wind...|\n",
      "| 85899345998|2019-01-23|  93.114.27.221|[23/Jan/2019:19:2...|     GET /m HTTP/1.1|   200| 17439|Mozilla/5.0 (iPho...|\n",
      "| 94489280520|2019-01-23|  5.117.107.198|[23/Jan/2019:23:0...|GET /static/image...|   304|     0|Mozilla/5.0 (Linu...|\n",
      "| 94489280534|2019-01-23|     5.106.73.9|[23/Jan/2019:23:0...|GET /image/33968?...|   200|180344|Mozilla/5.0 (Linu...|\n",
      "| 94489280536|2019-01-23|  66.249.66.194|[23/Jan/2019:23:0...|GET /m/filter/b13...|   200| 18671|Mozilla/5.0 (Linu...|\n",
      "| 94489280563|2019-01-23|  5.216.237.244|[23/Jan/2019:23:0...|GET /m/event/Lg-f...|   200| 16504|Mozilla/5.0 (Linu...|\n",
      "| 94489280580|2019-01-23|  87.107.209.34|[23/Jan/2019:23:0...|GET /image/27317?...|   200| 42028|Mozilla/5.0 (Linu...|\n",
      "| 94489280590|2019-01-23|  5.121.123.222|[23/Jan/2019:23:0...|GET /image/1225/m...|   200| 62733|Mozilla/5.0 (Linu...|\n",
      "| 94489280599|2019-01-23|  159.89.28.183|[23/Jan/2019:23:0...|GET /image/814/ma...|   200| 63944|Mozilla/5.0 (Andr...|\n",
      "| 94489280604|2019-01-23|  5.125.108.240|[23/Jan/2019:23:0...|GET /amp-helper-f...|   200|   133|Mozilla/5.0 (Linu...|\n",
      "| 94489280610|2019-01-23|    89.36.55.39|[23/Jan/2019:23:0...|GET /image/21602/...|   200| 16782|Mozilla/5.0 (Linu...|\n",
      "|103079215119|2019-01-24|   66.249.66.92|[24/Jan/2019:08:5...|GET /filter/b226%...|   200| 41667|Mozilla/5.0 (comp...|\n",
      "|103079215141|2019-01-24|  91.98.235.117|[24/Jan/2019:08:5...|GET /static/image...|   200|  4011|Mozilla/5.0 (Wind...|\n",
      "|103079215183|2019-01-24|  5.202.218.190|[24/Jan/2019:08:5...|GET /image/31042?...|   200|  4157|Dalvik/2.1.0 (Lin...|\n",
      "|103079215187|2019-01-24|   17.58.102.43|[24/Jan/2019:08:5...|GET /browse/Kitch...|   404| 33697|Mozilla/5.0 (Maci...|\n",
      "|103079215201|2019-01-24|    5.112.173.8|[24/Jan/2019:08:5...|GET /image/58557/...|   200|  5793|Mozilla/5.0 (Linu...|\n",
      "|111669149712|2019-01-24|  66.249.66.194|[24/Jan/2019:12:0...|GET /m/product/27...|   200| 22005|Mozilla/5.0 (Linu...|\n",
      "|111669149732|2019-01-24|     5.74.228.7|[24/Jan/2019:12:0...|GET /settings/log...|   200|  4120|Mozilla/5.0 (Wind...|\n",
      "|111669149734|2019-01-24|    5.78.41.186|[24/Jan/2019:12:0...|GET /settings/log...|   200|  4120|Mozilla/5.0 (Wind...|\n",
      "|111669149771|2019-01-24|  66.249.66.194|[24/Jan/2019:12:0...|GET /product/6572...|   302|     0|Mozilla/5.0 (Linu...|\n",
      "|111669149787|2019-01-24|   5.218.178.69|[24/Jan/2019:12:0...|GET /image/61664/...|   200|  1950|Mozilla/5.0 (Linu...|\n",
      "|120259084293|2019-01-24|   2.185.87.210|[24/Jan/2019:15:0...|GET /image/33618/...|   200| 10695|Mozilla/5.0 (Linu...|\n",
      "|120259084355|2019-01-24|151.238.233.213|[24/Jan/2019:15:0...|GET /static/bundl...|   200|185207|Mozilla/5.0 (Wind...|\n",
      "|120259084388|2019-01-24|151.238.233.213|[24/Jan/2019:15:0...|GET /image/1178/a...|   200| 16857|Mozilla/5.0 (Wind...|\n",
      "|128849018880|2019-01-24|   5.114.240.92|[24/Jan/2019:19:4...|GET /static/image...|   200| 56076|Mozilla/5.0 (iPho...|\n",
      "|128849018891|2019-01-24|     5.75.13.81|[24/Jan/2019:19:4...|GET /image/5666/p...|   200| 19346|Mozilla/5.0 (Wind...|\n",
      "|128849018893|2019-01-24|     5.75.13.81|[24/Jan/2019:19:4...|GET /image/5714/p...|   200| 12465|Mozilla/5.0 (Wind...|\n",
      "|128849018908|2019-01-24|     5.75.13.81|[24/Jan/2019:19:4...|GET /image/33554?...|   200|  5437|Mozilla/5.0 (Wind...|\n",
      "|128849018914|2019-01-24|     5.75.13.81|[24/Jan/2019:19:4...|GET /settings/log...|   200|  4120|Mozilla/5.0 (Wind...|\n",
      "|128849018917|2019-01-24|  89.32.105.162|[24/Jan/2019:19:4...|GET /image/62227/...|   200|  4259|Mozilla/5.0 (Linu...|\n",
      "|128849018926|2019-01-24|  66.249.66.194|[24/Jan/2019:19:4...|GET /m/filter/b13...|   200| 18942|Mozilla/5.0 (Linu...|\n",
      "|128849018937|2019-01-24|  40.77.167.127|[24/Jan/2019:19:4...|GET /product/1699...|   301|   178|Mozilla/5.0 (comp...|\n",
      "|128849018966|2019-01-24| 172.80.229.130|[24/Jan/2019:19:4...|GET /image/5731?n...|   200|  4263|Dalvik/2.1.0 (Lin...|\n",
      "|128849018978|2019-01-24| 204.18.189.249|[24/Jan/2019:19:4...|GET /image/2/prod...|   200|    11|Mozilla/5.0 (Wind...|\n",
      "+------------+----------+---------------+--------------------+--------------------+------+------+--------------------+\n",
      "only showing top 100 rows\n",
      "\n"
     ]
    },
    {
     "name": "stderr",
     "output_type": "stream",
     "text": [
      "                                                                                \r"
     ]
    }
   ],
   "source": [
    "# объединим таблицы\n",
    "\n",
    "df_all = df2.join(df11, on='log_id', how = \"left\")\n",
    "df_all.show(100)"
   ]
  },
  {
   "cell_type": "code",
   "execution_count": 19,
   "id": "378fe903",
   "metadata": {},
   "outputs": [
    {
     "name": "stderr",
     "output_type": "stream",
     "text": [
      "                                                                                \r"
     ]
    },
    {
     "data": {
      "text/plain": [
       "10365152"
      ]
     },
     "execution_count": 19,
     "metadata": {},
     "output_type": "execute_result"
    }
   ],
   "source": [
    "df_all.count()"
   ]
  },
  {
   "cell_type": "code",
   "execution_count": 20,
   "id": "96899064",
   "metadata": {},
   "outputs": [
    {
     "name": "stdout",
     "output_type": "stream",
     "text": [
      "root\n",
      " |-- log_id: long (nullable = false)\n",
      " |-- date: date (nullable = true)\n",
      " |-- client_ip: string (nullable = true)\n",
      " |-- dateO: string (nullable = true)\n",
      " |-- act: string (nullable = true)\n",
      " |-- status: integer (nullable = true)\n",
      " |-- size: integer (nullable = true)\n",
      " |-- user_agent: string (nullable = true)\n",
      "\n"
     ]
    }
   ],
   "source": [
    "df_all.printSchema()"
   ]
  },
  {
   "cell_type": "code",
   "execution_count": 21,
   "id": "ca9e5f70",
   "metadata": {},
   "outputs": [
    {
     "name": "stderr",
     "output_type": "stream",
     "text": [
      "[Stage 32:=================================================>      (24 + 3) / 27]\r"
     ]
    },
    {
     "name": "stdout",
     "output_type": "stream",
     "text": [
      "+-----------+----------+---------------+--------------------+------+-----+--------------------+\n",
      "|     log_id|      date|      client_ip|                 act|status| size|          user_agent|\n",
      "+-----------+----------+---------------+--------------------+------+-----+--------------------+\n",
      "|          0|2019-01-22|   54.36.149.41|GET /filter/27|13...|   200|30577|Mozilla/5.0 (comp...|\n",
      "|          7|2019-01-22|  40.77.167.129|GET /image/576/ar...|   200|14776|Mozilla/5.0 (comp...|\n",
      "|         19|2019-01-22|  66.249.66.194|GET /m/filter/b2,...|   200|19451|Mozilla/5.0 (Linu...|\n",
      "| 8589934592|2019-01-22|    37.148.70.6|GET /image/1218/m...|   200|91935|Mozilla/5.0 (Wind...|\n",
      "| 8589934596|2019-01-22|  66.160.188.37|GET /image/56/pro...|   200| 9298|Mozilla/5.0 (Linu...|\n",
      "| 8589934599|2019-01-22|178.131.243.127|GET /image/64104/...|   200| 3698|Mozilla/5.0 (Wind...|\n",
      "|17179869191|2019-01-22|185.120.137.243|GET /image/1540/p...|   200| 1988|Mozilla/5.0 (Wind...|\n",
      "|17179869201|2019-01-22|    5.127.91.40|GET /image/33632?...|   200|56717|Mozilla/5.0 (Linu...|\n",
      "|25769803780|2019-01-22|  77.237.179.59|GET /static/image...|   304|    0|Mozilla/5.0 (Linu...|\n",
      "|25769803787|2019-01-22|    91.99.30.32|GET /site/alexaGo...|   200|  323|Mozilla/5.0 (Wind...|\n",
      "|25769803789|2019-01-22|   66.249.66.92|GET /filter/b105%...|   200|40611|Mozilla/5.0 (comp...|\n",
      "|25769803790|2019-01-22| 185.131.89.150|GET /static/image...|   200| 7713|Mozilla/5.0 (Wind...|\n",
      "|25769803793|2019-01-22|   66.249.66.91|GET /static/image...|   304|    0| Googlebot-Image/1.0|\n",
      "|34359738369|2019-01-22|    95.38.132.7|GET /image/64721/...|   200| 2018|Mozilla/5.0 (Wind...|\n",
      "|42949672966|2019-01-22| 91.243.166.237|GET /image/183/pr...|   200|12608|Mozilla/5.0 (Linu...|\n",
      "|42949672976|2019-01-22|    46.51.80.75|GET /image/65019/...|   200| 7692|Mozilla/5.0 (Linu...|\n",
      "|51539607563|2019-01-23|  46.100.62.207|GET /product/3397...|   200|43529|Mozilla/5.0 (Wind...|\n",
      "|51539607568|2019-01-23|   54.36.148.20|GET /filter/p1260...|   200|33708|Mozilla/5.0 (comp...|\n",
      "|77309411343|2019-01-23|   37.75.247.70|GET /image/58770/...|   200| 3882|Mozilla/5.0 (Wind...|\n",
      "|94489280520|2019-01-23|  5.117.107.198|GET /static/image...|   304|    0|Mozilla/5.0 (Linu...|\n",
      "+-----------+----------+---------------+--------------------+------+-----+--------------------+\n",
      "only showing top 20 rows\n",
      "\n"
     ]
    },
    {
     "name": "stderr",
     "output_type": "stream",
     "text": [
      "                                                                                \r"
     ]
    }
   ],
   "source": [
    "# убираем столбец dateO\n",
    "\n",
    "df_all1 = df_all.drop(\"dateO\")\n",
    "df_all1.show(20)"
   ]
  },
  {
   "cell_type": "code",
   "execution_count": 22,
   "id": "27f008d0",
   "metadata": {
    "scrolled": true
   },
   "outputs": [
    {
     "name": "stderr",
     "output_type": "stream",
     "text": [
      "                                                                                \r"
     ]
    },
    {
     "data": {
      "text/plain": [
       "10365152"
      ]
     },
     "execution_count": 22,
     "metadata": {},
     "output_type": "execute_result"
    }
   ],
   "source": [
    "df_all1.select(\"user_agent\").count()"
   ]
  },
  {
   "cell_type": "code",
   "execution_count": 23,
   "id": "b9aac3ea",
   "metadata": {
    "scrolled": false
   },
   "outputs": [
    {
     "name": "stderr",
     "output_type": "stream",
     "text": [
      "[Stage 43:=====================================>                  (18 + 9) / 27]\r"
     ]
    },
    {
     "name": "stdout",
     "output_type": "stream",
     "text": [
      "+--------------------------------------------------------------------------------------------------------------------------------------------------------+\n",
      "|                                                                                                                                              user_agent|\n",
      "+--------------------------------------------------------------------------------------------------------------------------------------------------------+\n",
      "|                                                                                      Mozilla/5.0 (compatible; AhrefsBot/6.1; +http://ahrefs.com/robot/)|\n",
      "|                                                                                 Mozilla/5.0 (compatible; bingbot/2.0; +http://www.bing.com/bingbot.htm)|\n",
      "|                                                                                       Mozilla/5.0 (Windows NT 6.1; rv:64.0) Gecko/20100101 Firefox/64.0|\n",
      "|                                    Mozilla/5.0 (Linux; Android 5.1.1; SM-P601) AppleWebKit/537.36 (KHTML, like Gecko) Chrome/71.0.3578.99 Safari/537.36|\n",
      "|                                                   Mozilla/5.0 (Windows NT 6.1) AppleWebKit/537.36 (KHTML, like Gecko) Chrome/71.0.3578.98 Safari/537.36|\n",
      "|                                                                                           Mozilla/5.0 (Windows NT 6.1; Trident/7.0; rv:11.0) like Gecko|\n",
      "|                 Mozilla/5.0 (Linux; Android 5.1; Lenovo TB3-710I Build/LMY47I) AppleWebKit/537.36 (KHTML, like Gecko) Chrome/46.0.2490.76 Safari/537.36|\n",
      "|                                       Mozilla/5.0 (Windows NT 6.1; Win64; x64) AppleWebKit/537.36 (KHTML, like Gecko) Chrome/71.0.3578.98 Safari/537.36|\n",
      "|Mozilla/5.0 (Linux; Android 4.2.2; HUAWEI G730-U10 Build/HuaweiG730-U10) AppleWebKit/537.36 (KHTML, like Gecko) Chrome/31.0.1650.59 Mobile Safari/537.36|\n",
      "|                            Mozilla/5.0 (Linux; Android 6.0; HTC U Play) AppleWebKit/537.36 (KHTML, like Gecko) Chrome/71.0.3578.99 Mobile Safari/537.36|\n",
      "+--------------------------------------------------------------------------------------------------------------------------------------------------------+\n",
      "\n"
     ]
    },
    {
     "name": "stderr",
     "output_type": "stream",
     "text": [
      "                                                                                \r"
     ]
    }
   ],
   "source": [
    "# смотрим вид данных для столбца user_agent\n",
    "\n",
    "df_all1.select(\"user_agent\").limit(10).show(truncate = 200)"
   ]
  },
  {
   "cell_type": "code",
   "execution_count": 24,
   "id": "627ac897",
   "metadata": {},
   "outputs": [
    {
     "name": "stderr",
     "output_type": "stream",
     "text": [
      "[Stage 47:=============================================>          (22 + 5) / 27]\r"
     ]
    },
    {
     "name": "stdout",
     "output_type": "stream",
     "text": [
      "+---------+-------------+-------+\n",
      "|device   |browser      |count  |\n",
      "+---------+-------------+-------+\n",
      "|Windows  |Chrome       |2852581|\n",
      "|Android  |Chrome       |2751333|\n",
      "|Windows  |Firefox      |2092220|\n",
      "|Googlebot|Spider       |642005 |\n",
      "|Apple    |Mobile Safari|566330 |\n",
      "|Android  |             |210059 |\n",
      "|         |             |206949 |\n",
      "|bingbot  |Spider       |200700 |\n",
      "|Android  |Mobile Safari|156893 |\n",
      "|Android  |Firefox      |156876 |\n",
      "|         |Spider       |156420 |\n",
      "|Windows  |             |136929 |\n",
      "|         |Mobile Safari|133913 |\n",
      "|         |Chrome       |78320  |\n",
      "|         |Firefox      |17578  |\n",
      "|Apple    |             |3308   |\n",
      "|Windows  |Mobile Safari|2738   |\n",
      "+---------+-------------+-------+\n",
      "\n"
     ]
    },
    {
     "name": "stderr",
     "output_type": "stream",
     "text": [
      "                                                                                \r"
     ]
    }
   ],
   "source": [
    "df3 = df11.select(\"user_agent\", \"client_ip\", \"log_id\")\\\n",
    ".withColumn(\"device\"\n",
    "    , F.when(F.instr(F.col(\"user_agent\"),\"(compatible;\") > 0\n",
    "    , F.when(F.instr(F.col(\"user_agent\"),\"bingbot\") > 0, \"bingbot\").otherwise(F.when(F.instr(F.col(\"user_agent\"),\"Googlebot\") > 0, \"Googlebot\").otherwise(\"\")))\\\n",
    ".otherwise(F.when(F.instr(F.col(\"user_agent\"),\"Windows\") > 0, \"Windows\").otherwise(F.when(F.instr(F.col(\"user_agent\"),\"iPhone\") + F.instr(F.col(\"user_agent\"),\"iPad\") > 0, \"Apple\")\\\n",
    "    .otherwise(F.when(F.instr(F.col(\"user_agent\"),\"Android \") > 0, \"Android\").otherwise(\"\")))))\\\n",
    ".withColumn(\"browser\"\\\n",
    "    , F.when(F.instr(F.col(\"user_agent\"),\"(compatible;\") > 0, \"Spider\")\\\n",
    "    .otherwise(F.when(F.instr(F.col(\"user_agent\"),\"Chrome/\") > 0, \"Chrome\")\\\n",
    "        .otherwise(F.when(F.instr(F.col(\"user_agent\"),\"Firefox\") > 0, \"Firefox\")\\\n",
    "            .otherwise(F.when(F.instr(F.col(\"user_agent\"),\"Safari/\") > 0, \"Mobile Safari\").otherwise(\"\")))))\n",
    "\n",
    "df3.groupBy(\"device\", \"browser\").count().orderBy(\"count\", ascending=0).show(50,0)"
   ]
  },
  {
   "cell_type": "code",
   "execution_count": 25,
   "id": "bc7053ca",
   "metadata": {},
   "outputs": [
    {
     "name": "stdout",
     "output_type": "stream",
     "text": [
      "+--------------------+-------------+------+---------+-------+\n",
      "|          user_agent|    client_ip|log_id|   device|browser|\n",
      "+--------------------+-------------+------+---------+-------+\n",
      "|Mozilla/5.0 (comp...| 54.36.149.41|     0|         | Spider|\n",
      "|Mozilla/5.0 (Linu...|  31.56.96.51|     1|  Android| Chrome|\n",
      "|Mozilla/5.0 (Linu...|  31.56.96.51|     2|  Android| Chrome|\n",
      "|Mozilla/5.0 (comp...|40.77.167.129|     3|  bingbot| Spider|\n",
      "|Mozilla/5.0 (Wind...|  91.99.72.15|     4|  Windows|Firefox|\n",
      "|Mozilla/5.0 (comp...|40.77.167.129|     5|  bingbot| Spider|\n",
      "|Mozilla/5.0 (comp...|40.77.167.129|     6|  bingbot| Spider|\n",
      "|Mozilla/5.0 (comp...|40.77.167.129|     7|  bingbot| Spider|\n",
      "|Mozilla/5.0 (comp...|66.249.66.194|     8|Googlebot| Spider|\n",
      "|Mozilla/5.0 (comp...|40.77.167.129|     9|  bingbot| Spider|\n",
      "+--------------------+-------------+------+---------+-------+\n",
      "only showing top 10 rows\n",
      "\n"
     ]
    }
   ],
   "source": [
    "df3.show(10)"
   ]
  },
  {
   "cell_type": "code",
   "execution_count": 26,
   "id": "94030022",
   "metadata": {},
   "outputs": [
    {
     "name": "stdout",
     "output_type": "stream",
     "text": [
      "+------+---------+-------+\n",
      "|log_id|   device|browser|\n",
      "+------+---------+-------+\n",
      "|     0|         | Spider|\n",
      "|     1|  Android| Chrome|\n",
      "|     2|  Android| Chrome|\n",
      "|     3|  bingbot| Spider|\n",
      "|     4|  Windows|Firefox|\n",
      "|     5|  bingbot| Spider|\n",
      "|     6|  bingbot| Spider|\n",
      "|     7|  bingbot| Spider|\n",
      "|     8|Googlebot| Spider|\n",
      "|     9|  bingbot| Spider|\n",
      "|    10|  bingbot| Spider|\n",
      "|    11|  bingbot| Spider|\n",
      "|    12|  Android| Chrome|\n",
      "|    13|  bingbot| Spider|\n",
      "|    14|         | Chrome|\n",
      "|    15|  bingbot| Spider|\n",
      "|    16|  bingbot| Spider|\n",
      "|    17|  bingbot| Spider|\n",
      "|    18|  bingbot| Spider|\n",
      "|    19|Googlebot| Spider|\n",
      "+------+---------+-------+\n",
      "only showing top 20 rows\n",
      "\n"
     ]
    }
   ],
   "source": [
    "# убираем столбцы user_agent, client_ip\n",
    "\n",
    "df3 = df3.drop(\"user_agent\", \"client_ip\")\n",
    "df3.show(20)"
   ]
  },
  {
   "cell_type": "code",
   "execution_count": 27,
   "id": "a830634b",
   "metadata": {},
   "outputs": [
    {
     "name": "stderr",
     "output_type": "stream",
     "text": [
      "                                                                                \r"
     ]
    },
    {
     "data": {
      "text/plain": [
       "10365152"
      ]
     },
     "execution_count": 27,
     "metadata": {},
     "output_type": "execute_result"
    }
   ],
   "source": [
    "df3.select(\"log_id\").count()"
   ]
  },
  {
   "cell_type": "code",
   "execution_count": 28,
   "id": "38f5a79e",
   "metadata": {},
   "outputs": [
    {
     "name": "stderr",
     "output_type": "stream",
     "text": [
      "[Stage 55:===================================================>    (25 + 2) / 27]\r"
     ]
    },
    {
     "name": "stdout",
     "output_type": "stream",
     "text": [
      "+-----------+----------+---------------+--------------------+------+-----+--------------------+-------+-------+\n",
      "|     log_id|      date|      client_ip|                 act|status| size|          user_agent| device|browser|\n",
      "+-----------+----------+---------------+--------------------+------+-----+--------------------+-------+-------+\n",
      "|          0|2019-01-22|   54.36.149.41|GET /filter/27|13...|   200|30577|Mozilla/5.0 (comp...|       | Spider|\n",
      "|          7|2019-01-22|  40.77.167.129|GET /image/576/ar...|   200|14776|Mozilla/5.0 (comp...|bingbot| Spider|\n",
      "| 8589934592|2019-01-22|    37.148.70.6|GET /image/1218/m...|   200|91935|Mozilla/5.0 (Wind...|Windows|Firefox|\n",
      "| 8589934596|2019-01-22|  66.160.188.37|GET /image/56/pro...|   200| 9298|Mozilla/5.0 (Linu...|Android| Chrome|\n",
      "| 8589934599|2019-01-22|178.131.243.127|GET /image/64104/...|   200| 3698|Mozilla/5.0 (Wind...|Windows| Chrome|\n",
      "|17179869191|2019-01-22|185.120.137.243|GET /image/1540/p...|   200| 1988|Mozilla/5.0 (Wind...|Windows|       |\n",
      "|25769803780|2019-01-22|  77.237.179.59|GET /static/image...|   304|    0|Mozilla/5.0 (Linu...|Android| Chrome|\n",
      "|34359738369|2019-01-22|    95.38.132.7|GET /image/64721/...|   200| 2018|Mozilla/5.0 (Wind...|Windows| Chrome|\n",
      "|42949672966|2019-01-22| 91.243.166.237|GET /image/183/pr...|   200|12608|Mozilla/5.0 (Linu...|Android| Chrome|\n",
      "|94489280520|2019-01-23|  5.117.107.198|GET /static/image...|   304|    0|Mozilla/5.0 (Linu...|Android| Chrome|\n",
      "+-----------+----------+---------------+--------------------+------+-----+--------------------+-------+-------+\n",
      "only showing top 10 rows\n",
      "\n"
     ]
    },
    {
     "name": "stderr",
     "output_type": "stream",
     "text": [
      "                                                                                \r"
     ]
    }
   ],
   "source": [
    "# объединим таблицы и получим базовую.\n",
    "\n",
    "df_alls = df_all1.join(df3, on='log_id', how = \"right\")\n",
    "df_alls.show(10)"
   ]
  },
  {
   "cell_type": "code",
   "execution_count": 29,
   "id": "435a0e5d",
   "metadata": {},
   "outputs": [
    {
     "name": "stderr",
     "output_type": "stream",
     "text": [
      "                                                                                \r"
     ]
    },
    {
     "data": {
      "text/plain": [
       "10365152"
      ]
     },
     "execution_count": 29,
     "metadata": {},
     "output_type": "execute_result"
    }
   ],
   "source": [
    "df_alls.select('log_id').count()"
   ]
  },
  {
   "cell_type": "code",
   "execution_count": 30,
   "id": "0fc83b45",
   "metadata": {},
   "outputs": [],
   "source": [
    "# CSV файл с HDFS\n",
    "\n",
    "CSV_f = spark.read.csv('hdfs://localhost:9099/user/tuhvatullina_gulgina/client_hostname.csv', header=True)"
   ]
  },
  {
   "cell_type": "code",
   "execution_count": 31,
   "id": "309c8826",
   "metadata": {},
   "outputs": [
    {
     "name": "stdout",
     "output_type": "stream",
     "text": [
      "+-------------+--------------------+--------------------+-----------------+\n",
      "|       client|            hostname|          alias_list|     address_list|\n",
      "+-------------+--------------------+--------------------+-----------------+\n",
      "| 5.123.144.95|        5.123.144.95|[Errno 1] Unknown...|             null|\n",
      "| 5.122.76.187|        5.122.76.187|[Errno 1] Unknown...|             null|\n",
      "| 5.215.249.99|        5.215.249.99|[Errno 1] Unknown...|             null|\n",
      "|31.56.102.211|31-56-102-211.sha...|['211.102.56.31.i...|['31.56.102.211']|\n",
      "|5.123.166.223|       5.123.166.223|[Errno 1] Unknown...|             null|\n",
      "|  5.160.26.98|         5.160.26.98|[Errno 1] Unknown...|             null|\n",
      "|5.127.147.132|       5.127.147.132|[Errno 1] Unknown...|             null|\n",
      "|158.58.30.218|       158.58.30.218|[Errno 1] Unknown...|             null|\n",
      "| 86.55.230.86|        86.55.230.86|[Errno 1] Unknown...|             null|\n",
      "| 89.35.65.186|        89.35.65.186|[Errno 1] Unknown...|             null|\n",
      "+-------------+--------------------+--------------------+-----------------+\n",
      "only showing top 10 rows\n",
      "\n"
     ]
    }
   ],
   "source": [
    "CSV_f.show(10)"
   ]
  },
  {
   "cell_type": "code",
   "execution_count": 32,
   "id": "94d420ce",
   "metadata": {},
   "outputs": [
    {
     "data": {
      "text/plain": [
       "258445"
      ]
     },
     "execution_count": 32,
     "metadata": {},
     "output_type": "execute_result"
    }
   ],
   "source": [
    "# проверяем содержимое столбцов CSV файла\n",
    "\n",
    "CSV_f.count()"
   ]
  },
  {
   "cell_type": "code",
   "execution_count": 33,
   "id": "07bcce76",
   "metadata": {},
   "outputs": [
    {
     "name": "stdout",
     "output_type": "stream",
     "text": [
      "+--------------+-----+\n",
      "|        client|activ|\n",
      "+--------------+-----+\n",
      "| 5.114.245.223|    1|\n",
      "|92.223.105.186|    1|\n",
      "|   5.116.31.39|    1|\n",
      "|188.210.156.30|    1|\n",
      "| 37.27.169.160|    1|\n",
      "|  5.208.234.89|    1|\n",
      "|   5.114.76.74|    1|\n",
      "| 37.148.97.129|    1|\n",
      "| 37.129.53.194|    1|\n",
      "|  2.183.45.201|    1|\n",
      "|  2.178.86.101|    1|\n",
      "| 5.211.253.102|    1|\n",
      "|  5.209.25.236|    1|\n",
      "|  5.113.239.82|    1|\n",
      "|  93.114.25.19|    1|\n",
      "|195.181.93.133|    1|\n",
      "|   5.75.72.167|    1|\n",
      "| 2.182.233.205|    1|\n",
      "|  5.112.211.99|    1|\n",
      "| 5.117.104.154|    1|\n",
      "+--------------+-----+\n",
      "only showing top 20 rows\n",
      "\n"
     ]
    }
   ],
   "source": [
    "CSV_f.groupby(\"client\")\\\n",
    "   .agg(F.count(\"*\").alias(\"activ\"))\\\n",
    "   .orderBy(\"activ\", ascending = True)\\\n",
    "   .show()"
   ]
  },
  {
   "cell_type": "code",
   "execution_count": 34,
   "id": "af5d3b7c",
   "metadata": {
    "scrolled": true
   },
   "outputs": [
    {
     "name": "stdout",
     "output_type": "stream",
     "text": [
      "+----------+\n",
      "|sum(activ)|\n",
      "+----------+\n",
      "|    258445|\n",
      "+----------+\n",
      "\n"
     ]
    }
   ],
   "source": [
    "CSV_f.groupby(\"client\")\\\n",
    "    .agg(F.count(\"*\").alias(\"activ\"))\\\n",
    "    .orderBy(\"activ\", ascending = False)\\\n",
    "    .agg(F.sum(\"activ\"))\\\n",
    "    .show()"
   ]
  },
  {
   "cell_type": "code",
   "execution_count": 35,
   "id": "578d6203",
   "metadata": {
    "scrolled": true
   },
   "outputs": [
    {
     "name": "stderr",
     "output_type": "stream",
     "text": [
      "[Stage 82:=====================================================>  (26 + 1) / 27]\r"
     ]
    },
    {
     "name": "stdout",
     "output_type": "stream",
     "text": [
      "+-----------+----------+---------------+--------------------+------+-----+--------------------+-------+-------+\n",
      "|     log_id|      date|      client_ip|                 act|status| size|          user_agent| device|browser|\n",
      "+-----------+----------+---------------+--------------------+------+-----+--------------------+-------+-------+\n",
      "|          0|2019-01-22|   54.36.149.41|GET /filter/27|13...|   200|30577|Mozilla/5.0 (comp...|       | Spider|\n",
      "|          7|2019-01-22|  40.77.167.129|GET /image/576/ar...|   200|14776|Mozilla/5.0 (comp...|bingbot| Spider|\n",
      "| 8589934592|2019-01-22|    37.148.70.6|GET /image/1218/m...|   200|91935|Mozilla/5.0 (Wind...|Windows|Firefox|\n",
      "| 8589934596|2019-01-22|  66.160.188.37|GET /image/56/pro...|   200| 9298|Mozilla/5.0 (Linu...|Android| Chrome|\n",
      "| 8589934599|2019-01-22|178.131.243.127|GET /image/64104/...|   200| 3698|Mozilla/5.0 (Wind...|Windows| Chrome|\n",
      "|17179869191|2019-01-22|185.120.137.243|GET /image/1540/p...|   200| 1988|Mozilla/5.0 (Wind...|Windows|       |\n",
      "|25769803780|2019-01-22|  77.237.179.59|GET /static/image...|   304|    0|Mozilla/5.0 (Linu...|Android| Chrome|\n",
      "|34359738369|2019-01-22|    95.38.132.7|GET /image/64721/...|   200| 2018|Mozilla/5.0 (Wind...|Windows| Chrome|\n",
      "|42949672966|2019-01-22| 91.243.166.237|GET /image/183/pr...|   200|12608|Mozilla/5.0 (Linu...|Android| Chrome|\n",
      "|94489280520|2019-01-23|  5.117.107.198|GET /static/image...|   304|    0|Mozilla/5.0 (Linu...|Android| Chrome|\n",
      "+-----------+----------+---------------+--------------------+------+-----+--------------------+-------+-------+\n",
      "only showing top 10 rows\n",
      "\n"
     ]
    },
    {
     "name": "stderr",
     "output_type": "stream",
     "text": [
      "                                                                                \r"
     ]
    }
   ],
   "source": [
    "# базовая таблица\n",
    "\n",
    "df_alls.show(10)"
   ]
  },
  {
   "cell_type": "code",
   "execution_count": 36,
   "id": "ace97890",
   "metadata": {},
   "outputs": [
    {
     "name": "stderr",
     "output_type": "stream",
     "text": [
      "                                                                                \r"
     ]
    },
    {
     "data": {
      "text/plain": [
       "10365152"
      ]
     },
     "execution_count": 36,
     "metadata": {},
     "output_type": "execute_result"
    }
   ],
   "source": [
    "df_alls.select(\"client_ip\").count()"
   ]
  },
  {
   "cell_type": "code",
   "execution_count": 38,
   "id": "fdbcec0f",
   "metadata": {
    "scrolled": true
   },
   "outputs": [
    {
     "name": "stderr",
     "output_type": "stream",
     "text": [
      "                                                                                \r"
     ]
    }
   ],
   "source": [
    "# выгружаем DataFrame в CSV файл\n",
    "\n",
    "df_alls.write.csv(\"result.csv\")"
   ]
  },
  {
   "cell_type": "code",
   "execution_count": 39,
   "id": "c1c39859",
   "metadata": {},
   "outputs": [],
   "source": [
    "# суррогатный ключ - log_id"
   ]
  },
  {
   "cell_type": "code",
   "execution_count": 40,
   "id": "1a2eb5fb",
   "metadata": {},
   "outputs": [
    {
     "name": "stderr",
     "output_type": "stream",
     "text": [
      "[Stage 108:======================================>                (12 + 5) / 17]\r"
     ]
    },
    {
     "name": "stdout",
     "output_type": "stream",
     "text": [
      "+---------------+---------+------+\n",
      "|      client_ip|   device| count|\n",
      "+---------------+---------+------+\n",
      "|  66.249.66.194|Googlebot|346580|\n",
      "|   66.249.66.91|Googlebot|205125|\n",
      "|   66.249.66.91|         |109397|\n",
      "|151.239.241.163|  Windows| 92448|\n",
      "|   66.249.66.92|Googlebot| 56849|\n",
      "+---------------+---------+------+\n",
      "only showing top 5 rows\n",
      "\n"
     ]
    },
    {
     "name": "stderr",
     "output_type": "stream",
     "text": [
      "                                                                                \r"
     ]
    }
   ],
   "source": [
    "# выводим топ-5 самых активных посетителей сайта\n",
    "\n",
    "df_alls.groupby(\"client_ip\", \"device\").count().orderBy(\"count\",ascending=False).show(5)"
   ]
  },
  {
   "cell_type": "code",
   "execution_count": 41,
   "id": "65795e29",
   "metadata": {
    "scrolled": true
   },
   "outputs": [
    {
     "name": "stderr",
     "output_type": "stream",
     "text": [
      "[Stage 120:=============================>                          (9 + 8) / 17]\r"
     ]
    },
    {
     "name": "stdout",
     "output_type": "stream",
     "text": [
      "+---------+-------+\n",
      "|   device|count_u|\n",
      "+---------+-------+\n",
      "|Googlebot| 642005|\n",
      "|  Android|3275161|\n",
      "|    Apple| 569638|\n",
      "|         | 593180|\n",
      "|  Windows|5084468|\n",
      "|  bingbot| 200700|\n",
      "+---------+-------+\n",
      "\n"
     ]
    },
    {
     "name": "stderr",
     "output_type": "stream",
     "text": [
      "                                                                                \r"
     ]
    }
   ],
   "source": [
    "# выводим количество совершенных действий для данного устройства\n",
    "\n",
    "df_client_device = df_alls.groupby('device')\\\n",
    "             .agg(F.count('client_ip').alias('count_u'))\\\n",
    "             .withColumn('count_u',F.col('count_u'))\n",
    "             \n",
    "df_client_device.show()"
   ]
  },
  {
   "cell_type": "code",
   "execution_count": 42,
   "id": "d4201497",
   "metadata": {},
   "outputs": [],
   "source": [
    "# уберем нулевые значения в device"
   ]
  },
  {
   "cell_type": "code",
   "execution_count": 43,
   "id": "0d0cbedd",
   "metadata": {},
   "outputs": [
    {
     "name": "stderr",
     "output_type": "stream",
     "text": [
      "[Stage 132:=========>                                             (3 + 14) / 17]\r"
     ]
    },
    {
     "name": "stdout",
     "output_type": "stream",
     "text": [
      "+---------+-------+\n",
      "|   device|count_u|\n",
      "+---------+-------+\n",
      "|Googlebot| 642005|\n",
      "|  Android|3275161|\n",
      "|    Apple| 569638|\n",
      "|  Windows|5084468|\n",
      "|  bingbot| 200700|\n",
      "+---------+-------+\n",
      "\n"
     ]
    },
    {
     "name": "stderr",
     "output_type": "stream",
     "text": [
      "                                                                                \r"
     ]
    }
   ],
   "source": [
    "df_CD = df_client_device.filter(df_client_device.device != \"\")\n",
    "df_CD.show()"
   ]
  },
  {
   "cell_type": "code",
   "execution_count": 44,
   "id": "1c700718",
   "metadata": {},
   "outputs": [],
   "source": [
    "# посчитаем долю пользователей данного устройства от общего числа пользователей"
   ]
  },
  {
   "cell_type": "code",
   "execution_count": 45,
   "id": "a72bce34",
   "metadata": {},
   "outputs": [
    {
     "name": "stdout",
     "output_type": "stream",
     "text": [
      "23/01/17 21:21:11 WARN WindowExec: No Partition Defined for Window operation! Moving all data to a single partition, this can cause serious performance degradation.\n",
      "23/01/17 21:21:11 WARN WindowExec: No Partition Defined for Window operation! Moving all data to a single partition, this can cause serious performance degradation.\n",
      "23/01/17 21:21:11 WARN WindowExec: No Partition Defined for Window operation! Moving all data to a single partition, this can cause serious performance degradation.\n"
     ]
    },
    {
     "name": "stderr",
     "output_type": "stream",
     "text": [
      "[Stage 138:>(22 + 5) / 27][Stage 139:>(0 + 11) / 27][Stage 140:> (0 + 0) / 27]\r"
     ]
    },
    {
     "name": "stdout",
     "output_type": "stream",
     "text": [
      "23/01/17 21:21:12 WARN WindowExec: No Partition Defined for Window operation! Moving all data to a single partition, this can cause serious performance degradation.\n",
      "23/01/17 21:21:12 WARN WindowExec: No Partition Defined for Window operation! Moving all data to a single partition, this can cause serious performance degradation.\n"
     ]
    },
    {
     "name": "stderr",
     "output_type": "stream",
     "text": [
      "[Stage 140:>                                                      (0 + 16) / 27]\r"
     ]
    },
    {
     "name": "stdout",
     "output_type": "stream",
     "text": [
      "23/01/17 21:21:14 WARN WindowExec: No Partition Defined for Window operation! Moving all data to a single partition, this can cause serious performance degradation.\n",
      "23/01/17 21:21:14 WARN WindowExec: No Partition Defined for Window operation! Moving all data to a single partition, this can cause serious performance degradation.\n"
     ]
    },
    {
     "name": "stderr",
     "output_type": "stream",
     "text": [
      "[Stage 140:====================================================>  (26 + 1) / 27]\r"
     ]
    },
    {
     "name": "stdout",
     "output_type": "stream",
     "text": [
      "23/01/17 21:21:19 WARN WindowExec: No Partition Defined for Window operation! Moving all data to a single partition, this can cause serious performance degradation.\n",
      "23/01/17 21:21:19 WARN WindowExec: No Partition Defined for Window operation! Moving all data to a single partition, this can cause serious performance degradation.\n"
     ]
    },
    {
     "name": "stderr",
     "output_type": "stream",
     "text": [
      "[Stage 144:===================================================>   (16 + 1) / 17]\r"
     ]
    },
    {
     "name": "stdout",
     "output_type": "stream",
     "text": [
      "23/01/17 21:21:20 WARN WindowExec: No Partition Defined for Window operation! Moving all data to a single partition, this can cause serious performance degradation.\n",
      "23/01/17 21:21:20 WARN WindowExec: No Partition Defined for Window operation! Moving all data to a single partition, this can cause serious performance degradation.\n",
      "23/01/17 21:21:20 WARN WindowExec: No Partition Defined for Window operation! Moving all data to a single partition, this can cause serious performance degradation.\n",
      "23/01/17 21:21:20 WARN WindowExec: No Partition Defined for Window operation! Moving all data to a single partition, this can cause serious performance degradation.\n",
      "+---------+-------+--------------------+\n",
      "|   device|count_u|               ratio|\n",
      "+---------+-------+--------------------+\n",
      "|Googlebot| 642005| 0.06569861231694074|\n",
      "|  Android|3275161| 0.33515865579639403|\n",
      "|    Apple| 569638| 0.05829304463827772|\n",
      "|  Windows|5084468|  0.5203113557836637|\n",
      "|  bingbot| 200700|0.020538331464723805|\n",
      "+---------+-------+--------------------+\n",
      "\n"
     ]
    },
    {
     "name": "stderr",
     "output_type": "stream",
     "text": [
      "                                                                                \r"
     ]
    }
   ],
   "source": [
    "df_device_client = df_CD.withColumn('all_users', F.sum('count_u').over(Window.partitionBy()))\\\n",
    "            .withColumn('ratio', F.col('count_u') / F.col('all_users'))\\\n",
    "            .select('device', 'count_u', 'ratio')\n",
    "       \n",
    "df_device_client.show()"
   ]
  },
  {
   "cell_type": "code",
   "execution_count": 46,
   "id": "032185d0",
   "metadata": {},
   "outputs": [
    {
     "name": "stderr",
     "output_type": "stream",
     "text": [
      "[Stage 160:===>                                                   (1 + 16) / 17]\r"
     ]
    },
    {
     "name": "stdout",
     "output_type": "stream",
     "text": [
      "+-------------+-------+\n",
      "|      browser|  count|\n",
      "+-------------+-------+\n",
      "|       Spider| 999125|\n",
      "|      Firefox|2266674|\n",
      "|Mobile Safari| 859874|\n",
      "|       Chrome|5682234|\n",
      "|             | 557245|\n",
      "+-------------+-------+\n",
      "\n"
     ]
    },
    {
     "name": "stderr",
     "output_type": "stream",
     "text": [
      "                                                                                \r"
     ]
    }
   ],
   "source": [
    "# выводим топ-5 самых популярных браузеров\n",
    "\n",
    "df0 = df_alls.groupby(\"browser\").count()\n",
    "df0.show(5)"
   ]
  },
  {
   "cell_type": "code",
   "execution_count": 49,
   "id": "a49138ca",
   "metadata": {},
   "outputs": [],
   "source": [
    "# посчитаем долю 5 самых популярных браузера от общего числа браузеров"
   ]
  },
  {
   "cell_type": "code",
   "execution_count": 50,
   "id": "96a7b839",
   "metadata": {},
   "outputs": [
    {
     "name": "stdout",
     "output_type": "stream",
     "text": [
      "23/01/17 21:22:25 WARN WindowExec: No Partition Defined for Window operation! Moving all data to a single partition, this can cause serious performance degradation.\n",
      "23/01/17 21:22:25 WARN WindowExec: No Partition Defined for Window operation! Moving all data to a single partition, this can cause serious performance degradation.\n",
      "23/01/17 21:22:25 WARN WindowExec: No Partition Defined for Window operation! Moving all data to a single partition, this can cause serious performance degradation.\n"
     ]
    },
    {
     "name": "stderr",
     "output_type": "stream",
     "text": [
      "[Stage 190:>                                                      (0 + 16) / 27]\r"
     ]
    },
    {
     "name": "stdout",
     "output_type": "stream",
     "text": [
      "23/01/17 21:22:26 WARN WindowExec: No Partition Defined for Window operation! Moving all data to a single partition, this can cause serious performance degradation.\n",
      "23/01/17 21:22:26 WARN WindowExec: No Partition Defined for Window operation! Moving all data to a single partition, this can cause serious performance degradation.\n",
      "23/01/17 21:22:26 WARN WindowExec: No Partition Defined for Window operation! Moving all data to a single partition, this can cause serious performance degradation.\n",
      "23/01/17 21:22:26 WARN WindowExec: No Partition Defined for Window operation! Moving all data to a single partition, this can cause serious performance degradation.\n"
     ]
    },
    {
     "name": "stderr",
     "output_type": "stream",
     "text": [
      "[Stage 190:========================================>              (20 + 7) / 27]\r"
     ]
    },
    {
     "name": "stdout",
     "output_type": "stream",
     "text": [
      "23/01/17 21:22:29 WARN WindowExec: No Partition Defined for Window operation! Moving all data to a single partition, this can cause serious performance degradation.\n",
      "23/01/17 21:22:29 WARN WindowExec: No Partition Defined for Window operation! Moving all data to a single partition, this can cause serious performance degradation.\n"
     ]
    },
    {
     "name": "stderr",
     "output_type": "stream",
     "text": [
      "[Stage 193:===================================================>   (16 + 1) / 17]\r"
     ]
    },
    {
     "name": "stdout",
     "output_type": "stream",
     "text": [
      "23/01/17 21:22:30 WARN WindowExec: No Partition Defined for Window operation! Moving all data to a single partition, this can cause serious performance degradation.\n",
      "23/01/17 21:22:30 WARN WindowExec: No Partition Defined for Window operation! Moving all data to a single partition, this can cause serious performance degradation.\n",
      "23/01/17 21:22:30 WARN WindowExec: No Partition Defined for Window operation! Moving all data to a single partition, this can cause serious performance degradation.\n",
      "23/01/17 21:22:30 WARN WindowExec: No Partition Defined for Window operation! Moving all data to a single partition, this can cause serious performance degradation.\n",
      "+-------------+-------+-------------------+\n",
      "|      browser|  count|              ratio|\n",
      "+-------------+-------+-------------------+\n",
      "|       Spider| 999125| 0.0963927012358333|\n",
      "|      Firefox|2266674|0.21868217658554356|\n",
      "|Mobile Safari| 859874| 0.0829581659776914|\n",
      "|       Chrome|5682234| 0.5482055641827539|\n",
      "|             | 557245|0.05376139201817783|\n",
      "+-------------+-------+-------------------+\n",
      "\n"
     ]
    },
    {
     "name": "stderr",
     "output_type": "stream",
     "text": [
      "                                                                                \r"
     ]
    }
   ],
   "source": [
    "df_browser_client = df0.withColumn('all_users', F.sum('count').over(Window.partitionBy()))\\\n",
    "            .withColumn('ratio', F.col('count') / F.col('all_users'))\\\n",
    "            .select('browser', 'count', 'ratio')\n",
    "       \n",
    "df_browser_client.show(5)"
   ]
  },
  {
   "cell_type": "code",
   "execution_count": null,
   "id": "b010bc88",
   "metadata": {},
   "outputs": [],
   "source": []
  }
 ],
 "metadata": {
  "kernelspec": {
   "display_name": "Python 3 (ipykernel)",
   "language": "python",
   "name": "python3"
  },
  "language_info": {
   "codemirror_mode": {
    "name": "ipython",
    "version": 3
   },
   "file_extension": ".py",
   "mimetype": "text/x-python",
   "name": "python",
   "nbconvert_exporter": "python",
   "pygments_lexer": "ipython3",
   "version": "3.9.7"
  }
 },
 "nbformat": 4,
 "nbformat_minor": 5
}
