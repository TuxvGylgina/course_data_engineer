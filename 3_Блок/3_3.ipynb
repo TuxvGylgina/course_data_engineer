{
 "cells": [
  {
   "cell_type": "code",
   "execution_count": 186,
   "id": "ec4fc89f",
   "metadata": {
    "scrolled": true
   },
   "outputs": [],
   "source": [
    "# импорт библиотек,модулей\n",
    "\n",
    "from pyspark.sql import SparkSession\n",
    "from pyspark import SparkConf, SparkContext\n",
    "import pyspark.sql.types as T\n",
    "import pyspark.sql.functions as F\n",
    "from datetime import datetime\n",
    "conf = SparkConf()\n",
    "conf.setMaster(\"local\").setAppName('work')\n",
    "sc = SparkContext.getOrCreate(conf=conf)\n",
    "spark = SparkSession(sc)"
   ]
  },
  {
   "cell_type": "code",
   "execution_count": 187,
   "id": "a47d333b",
   "metadata": {},
   "outputs": [],
   "source": [
    "# cоздаем схему будущего фрейма данных\n",
    "    \n",
    "sxema = T.StructType([\n",
    "    T.StructField(\"id\", T.IntegerType(),False),\n",
    "    T.StructField(\"timestamp\", T.LongType(),True),\n",
    "    T.StructField(\"type\", T.StringType(),True),\n",
    "    T.StructField(\"page_id\", T.IntegerType(),True),\n",
    "    T.StructField(\"tag\", T.StringType(),True),\n",
    "    T.StructField(\"sign\", T.BooleanType(),True)\n",
    "    ])"
   ]
  },
  {
   "cell_type": "code",
   "execution_count": 188,
   "id": "f150f819",
   "metadata": {},
   "outputs": [],
   "source": [
    "# наполняем датафрейм данными\n",
    "\n",
    "data     =[(1, 1637627426, \"click\", 101, 'Sport', False),\n",
    "           (2, 1637621465, \"visit\", 105, 'Science', True),\n",
    "           (2, 1637621650, \"scroll\", 102, 'Sport', True),\n",
    "           (4, 1637621257, \"visit\", 101, 'Culture', False),\n",
    "           (2, 1637621345, \"click\", 106, 'Politics', True),\n",
    "           (1, 1637622346, \"click\", 103, 'Sport', True),\n",
    "           (1, 1637625623, \"visit\", 106, 'Culture', True),\n",
    "           (4, 1637621874, \"click\", 102, 'Politics', False),\n",
    "           (4, 1637623475, \"click\", 101, 'Culture', True),\n",
    "           (3, 1638625692, \"visit\", 104, 'Science', True),\n",
    "           (3, 1638621793, \"click\", 102, 'Business', False),\n",
    "           (3, 1637622463, \"visit\", 105, 'Science', True),\n",
    "           (1, 1637623426, \"scroll\", 101, 'Business', False),\n",
    "           (4, 1637621334, \"visit\", 105, 'Sport', True),\n",
    "           (1, 1637822645, \"visit\", 101, 'Sport', False),\n",
    "           (4, 1637626321, \"visit\", 105, 'Business', False),\n",
    "           (1, 1637627325, \"scroll\", 102, 'Sport', True),\n",
    "           (2, 1637621434, \"click\", 106, 'Sport', True),\n",
    "           (4, 1637627353, \"visit\", 101, 'Science', True),\n",
    "           (4, 1637629348, \"visit\", 105, 'Politics', True),\n",
    "           (5, 1637664479, \"scroll\", 101, 'Politics', True),\n",
    "           (5, 1638668932, \"visit\", 101, 'Politics', True),\n",
    "           (1, 1637822645, \"visit\", 104, 'Sport', False),\n",
    "           (5, 1637621543, \"click\", 104, 'Business', False),\n",
    "           (2, 1637628293, \"click\", 102, 'Science', True),\n",
    "           (3, 1637624182, \"scroll\", 102, 'Culture', True),\n",
    "           (2, 1637629356, \"visit\", 104, 'Science', False),\n",
    "           (4, 1637622248, \"click\", 105, 'Politics', False),\n",
    "           (5, 1637673457, \"scroll\", 106, 'Business', False),\n",
    "           (5, 1638602456, \"scroll\", 102, 'Business', True)\n",
    "          ]\n",
    "\n",
    "df = spark.createDataFrame(data=data,schema=sxema)"
   ]
  },
  {
   "cell_type": "code",
   "execution_count": 189,
   "id": "b4bb74f1",
   "metadata": {
    "scrolled": true
   },
   "outputs": [],
   "source": [
    "df = df.select(*[i for i in df.columns if i != \"timestamp\"], \n",
    "               F.from_unixtime(\"timestamp\").alias(\"event_time\"))"
   ]
  },
  {
   "cell_type": "code",
   "execution_count": 190,
   "id": "7b4b64be",
   "metadata": {},
   "outputs": [
    {
     "name": "stdout",
     "output_type": "stream",
     "text": [
      "+---+------+-------+--------+-----+-------------------+\n",
      "| id|  type|page_id|     tag| sign|         event_time|\n",
      "+---+------+-------+--------+-----+-------------------+\n",
      "|  1| click|    101|   Sport|false|2021-11-23 00:30:26|\n",
      "|  2| visit|    105| Science| true|2021-11-22 22:51:05|\n",
      "|  2|scroll|    102|   Sport| true|2021-11-22 22:54:10|\n",
      "|  4| visit|    101| Culture|false|2021-11-22 22:47:37|\n",
      "|  2| click|    106|Politics| true|2021-11-22 22:49:05|\n",
      "|  1| click|    103|   Sport| true|2021-11-22 23:05:46|\n",
      "|  1| visit|    106| Culture| true|2021-11-23 00:00:23|\n",
      "|  4| click|    102|Politics|false|2021-11-22 22:57:54|\n",
      "|  4| click|    101| Culture| true|2021-11-22 23:24:35|\n",
      "|  3| visit|    104| Science| true|2021-12-04 13:48:12|\n",
      "|  3| click|    102|Business|false|2021-12-04 12:43:13|\n",
      "|  3| visit|    105| Science| true|2021-11-22 23:07:43|\n",
      "|  1|scroll|    101|Business|false|2021-11-22 23:23:46|\n",
      "|  4| visit|    105|   Sport| true|2021-11-22 22:48:54|\n",
      "|  1| visit|    101|   Sport|false|2021-11-25 06:44:05|\n",
      "|  4| visit|    105|Business|false|2021-11-23 00:12:01|\n",
      "|  1|scroll|    102|   Sport| true|2021-11-23 00:28:45|\n",
      "|  2| click|    106|   Sport| true|2021-11-22 22:50:34|\n",
      "|  4| visit|    101| Science| true|2021-11-23 00:29:13|\n",
      "|  4| visit|    105|Politics| true|2021-11-23 01:02:28|\n",
      "|  5|scroll|    101|Politics| true|2021-11-23 10:47:59|\n",
      "|  5| visit|    101|Politics| true|2021-12-05 01:48:52|\n",
      "|  1| visit|    104|   Sport|false|2021-11-25 06:44:05|\n",
      "|  5| click|    104|Business|false|2021-11-22 22:52:23|\n",
      "|  2| click|    102| Science| true|2021-11-23 00:44:53|\n",
      "|  3|scroll|    102| Culture| true|2021-11-22 23:36:22|\n",
      "|  2| visit|    104| Science|false|2021-11-23 01:02:36|\n",
      "|  4| click|    105|Politics|false|2021-11-22 23:04:08|\n",
      "|  5|scroll|    106|Business|false|2021-11-23 13:17:37|\n",
      "|  5|scroll|    102|Business| true|2021-12-04 07:20:56|\n",
      "+---+------+-------+--------+-----+-------------------+\n",
      "\n"
     ]
    }
   ],
   "source": [
    " df.show(50)"
   ]
  },
  {
   "cell_type": "code",
   "execution_count": 191,
   "id": "7cf56307",
   "metadata": {},
   "outputs": [
    {
     "name": "stdout",
     "output_type": "stream",
     "text": [
      "+---+-----+\n",
      "| id|count|\n",
      "+---+-----+\n",
      "|  4|    8|\n",
      "|  1|    7|\n",
      "|  2|    6|\n",
      "|  5|    5|\n",
      "|  3|    4|\n",
      "+---+-----+\n",
      "\n"
     ]
    }
   ],
   "source": [
    "# выводим топ-5 самых активных посетителей сайта\n",
    "\n",
    "df.groupby(\"id\").count().orderBy(\"count\",ascending=False).show(5)"
   ]
  },
  {
   "cell_type": "code",
   "execution_count": 192,
   "id": "8c138a40",
   "metadata": {},
   "outputs": [
    {
     "name": "stdout",
     "output_type": "stream",
     "text": [
      "60.0 %\n"
     ]
    }
   ],
   "source": [
    "# посчитаем процент посетителей, у которых есть ЛК\n",
    "\n",
    "percent = 100/(df.count()/df.filter(df.sign==True).count())\n",
    "print(percent,'%')"
   ]
  },
  {
   "cell_type": "code",
   "execution_count": 193,
   "id": "92b3abf1",
   "metadata": {},
   "outputs": [
    {
     "name": "stdout",
     "output_type": "stream",
     "text": [
      "+-------+-----+\n",
      "|page_id|count|\n",
      "+-------+-----+\n",
      "|    102|    3|\n",
      "|    101|    2|\n",
      "|    106|    2|\n",
      "|    103|    1|\n",
      "|    105|    1|\n",
      "+-------+-----+\n",
      "only showing top 5 rows\n",
      "\n"
     ]
    }
   ],
   "source": [
    "#  выводим топ-5 страниц сайта по показателю общего кол-ва кликов на данной странице\n",
    "\n",
    "df_click = df.filter(df.type==\"click\")\n",
    "df_click.groupBy(\"page_id\").count().orderBy(\"count\",ascending=False).show(5)"
   ]
  },
  {
   "cell_type": "code",
   "execution_count": 194,
   "id": "061272ae",
   "metadata": {},
   "outputs": [
    {
     "name": "stdout",
     "output_type": "stream",
     "text": [
      "+---+------+-------+--------+-----+-------------------+---+\n",
      "| id|  type|page_id|     tag| sign|         event_time|new|\n",
      "+---+------+-------+--------+-----+-------------------+---+\n",
      "|  1| click|    101|   Sport|false|2021-11-23 00:30:26|  0|\n",
      "|  2| visit|    105| Science| true|2021-11-22 22:51:05|  5|\n",
      "|  2|scroll|    102|   Sport| true|2021-11-22 22:54:10|  5|\n",
      "|  4| visit|    101| Culture|false|2021-11-22 22:47:37|  5|\n",
      "|  2| click|    106|Politics| true|2021-11-22 22:49:05|  5|\n",
      "|  1| click|    103|   Sport| true|2021-11-22 23:05:46|  5|\n",
      "|  1| visit|    106| Culture| true|2021-11-23 00:00:23|  0|\n",
      "|  4| click|    102|Politics|false|2021-11-22 22:57:54|  5|\n",
      "|  4| click|    101| Culture| true|2021-11-22 23:24:35|  5|\n",
      "|  3| visit|    104| Science| true|2021-12-04 13:48:12|  3|\n",
      "|  3| click|    102|Business|false|2021-12-04 12:43:13|  3|\n",
      "|  3| visit|    105| Science| true|2021-11-22 23:07:43|  5|\n",
      "|  1|scroll|    101|Business|false|2021-11-22 23:23:46|  5|\n",
      "|  4| visit|    105|   Sport| true|2021-11-22 22:48:54|  5|\n",
      "|  1| visit|    101|   Sport|false|2021-11-25 06:44:05|  1|\n",
      "|  4| visit|    105|Business|false|2021-11-23 00:12:01|  0|\n",
      "|  1|scroll|    102|   Sport| true|2021-11-23 00:28:45|  0|\n",
      "|  2| click|    106|   Sport| true|2021-11-22 22:50:34|  5|\n",
      "|  4| visit|    101| Science| true|2021-11-23 00:29:13|  0|\n",
      "|  4| visit|    105|Politics| true|2021-11-23 01:02:28|  0|\n",
      "|  5|scroll|    101|Politics| true|2021-11-23 10:47:59|  2|\n",
      "|  5| visit|    101|Politics| true|2021-12-05 01:48:52|  0|\n",
      "|  1| visit|    104|   Sport|false|2021-11-25 06:44:05|  1|\n",
      "|  5| click|    104|Business|false|2021-11-22 22:52:23|  5|\n",
      "|  2| click|    102| Science| true|2021-11-23 00:44:53|  0|\n",
      "|  3|scroll|    102| Culture| true|2021-11-22 23:36:22|  5|\n",
      "|  2| visit|    104| Science|false|2021-11-23 01:02:36|  0|\n",
      "|  4| click|    105|Politics|false|2021-11-22 23:04:08|  5|\n",
      "|  5|scroll|    106|Business|false|2021-11-23 13:17:37|  3|\n",
      "|  5|scroll|    102|Business| true|2021-12-04 07:20:56|  1|\n",
      "+---+------+-------+--------+-----+-------------------+---+\n",
      "\n"
     ]
    }
   ],
   "source": [
    "# добавим столбец к фрейму данных со значением временного диапазона \n",
    "\n",
    "dfTime = df.withColumn(\"new\",F.floor(F.hour(\"event_time\") / F.lit(4)))\n",
    "dfTime.show(50)"
   ]
  },
  {
   "cell_type": "code",
   "execution_count": 195,
   "id": "cc1df351",
   "metadata": {},
   "outputs": [],
   "source": [
    "# выводим временной промежуток в течение которого было больше всего активностей на сайте\n",
    "\n",
    "df2 = dfTime.groupby(\"new\").agg(F.count(\"*\").alias(\"event_count\")).orderBy(\"event_count\",ascending=False)"
   ]
  },
  {
   "cell_type": "code",
   "execution_count": 196,
   "id": "2a58ba03",
   "metadata": {},
   "outputs": [
    {
     "name": "stdout",
     "output_type": "stream",
     "text": [
      "+---+\n",
      "|new|\n",
      "+---+\n",
      "|  5|\n",
      "+---+\n",
      "\n"
     ]
    }
   ],
   "source": [
    "df2.registerTempTable(\"df_table\")\n",
    "spark.sql(\"SELECT new FROM df_table WHERE event_count = (SELECT MAX(event_count) FROM df_table)\").show()"
   ]
  },
  {
   "cell_type": "code",
   "execution_count": 197,
   "id": "612729db",
   "metadata": {},
   "outputs": [],
   "source": [
    "# cоздаем схему второго фрейма данных с информацией личного кабинета\n",
    "\n",
    "LKsxema = T.StructType([\n",
    "    T.StructField(\"id\", T.IntegerType(),True),\n",
    "    T.StructField(\"user_id\", T.IntegerType(),True),\n",
    "    T.StructField(\"fio\", T.StringType(),True),\n",
    "    T.StructField(\"bday\", T.DateType(),True),\n",
    "    T.StructField(\"crday\", T.DateType(),True),\n",
    "])\n",
    "\n",
    "from datetime import datetime"
   ]
  },
  {
   "cell_type": "code",
   "execution_count": 198,
   "id": "d4af6321",
   "metadata": {},
   "outputs": [
    {
     "name": "stdout",
     "output_type": "stream",
     "text": [
      "+---+-------+--------------------+----------+----------+\n",
      "| id|user_id|                 fio|      bday|     crday|\n",
      "+---+-------+--------------------+----------+----------+\n",
      "|101|      1|Иванов Иван Иванович|1999-09-18|2022-06-02|\n",
      "|102|      4|Симонова Надежда ...|1995-09-22|2022-12-30|\n",
      "|105|      5|Петрович Олег Ген...|2007-10-16|2023-01-03|\n",
      "|103|      2|Терешкова Надежда...|2010-11-08|2021-05-19|\n",
      "|104|      3|Пушкин Анатолий А...|2020-07-07|2020-09-23|\n",
      "+---+-------+--------------------+----------+----------+\n",
      "\n"
     ]
    }
   ],
   "source": [
    "# заполним данными второй фрейм\n",
    "\n",
    "data_2 = [\n",
    "    (101,1,\"Иванов Иван Иванович\",datetime.strptime(\"1999-09-18\", \"%Y-%m-%d\"),datetime.strptime(\"2022-06-02\", \"%Y-%m-%d\")),\n",
    "    (102,4,\"Симонова Надежда Юрьевна\",datetime.strptime(\"1995-09-22\", \"%Y-%m-%d\"),datetime.strptime(\"2022-12-30\", \"%Y-%m-%d\")),\n",
    "    (105,5,\"Петрович Олег Генадьевич\",datetime.strptime(\"2007-10-16\", \"%Y-%m-%d\"),datetime.strptime(\"2023-01-03\", \"%Y-%m-%d\")),\n",
    "    (103,2,\"Терешкова Надежда Борисовна\",datetime.strptime(\"2010-11-08\", \"%Y-%m-%d\"),datetime.strptime(\"2021-05-19\", \"%Y-%m-%d\")),\n",
    "    (104,3,\"Пушкин Анатолий Аркадьевич\",datetime.strptime(\"2020-07-07\", \"%Y-%m-%d\"),datetime.strptime(\"2020-09-23\", \"%Y-%m-%d\"))\n",
    "]\n",
    "\n",
    "df_2 = spark.createDataFrame(data = data_2, schema = LKsxema)\n",
    "df_2.show()"
   ]
  },
  {
   "cell_type": "code",
   "execution_count": 199,
   "id": "8e4f96c8",
   "metadata": {},
   "outputs": [
    {
     "name": "stdout",
     "output_type": "stream",
     "text": [
      "+---+-------+--------------------+----------+----------+---+------+-------+--------+-----+-------------------+---+\n",
      "| id|user_id|                 fio|      bday|     crday| id|  type|page_id|     tag| sign|         event_time|new|\n",
      "+---+-------+--------------------+----------+----------+---+------+-------+--------+-----+-------------------+---+\n",
      "|101|      1|Иванов Иван Иванович|1999-09-18|2022-06-02|  1| visit|    104|   Sport|false|2021-11-25 06:44:05|  1|\n",
      "|101|      1|Иванов Иван Иванович|1999-09-18|2022-06-02|  1|scroll|    102|   Sport| true|2021-11-23 00:28:45|  0|\n",
      "|101|      1|Иванов Иван Иванович|1999-09-18|2022-06-02|  1| visit|    101|   Sport|false|2021-11-25 06:44:05|  1|\n",
      "|101|      1|Иванов Иван Иванович|1999-09-18|2022-06-02|  1|scroll|    101|Business|false|2021-11-22 23:23:46|  5|\n",
      "|101|      1|Иванов Иван Иванович|1999-09-18|2022-06-02|  1| visit|    106| Culture| true|2021-11-23 00:00:23|  0|\n",
      "|101|      1|Иванов Иван Иванович|1999-09-18|2022-06-02|  1| click|    103|   Sport| true|2021-11-22 23:05:46|  5|\n",
      "|101|      1|Иванов Иван Иванович|1999-09-18|2022-06-02|  1| click|    101|   Sport|false|2021-11-23 00:30:26|  0|\n",
      "|104|      3|Пушкин Анатолий А...|2020-07-07|2020-09-23|  3|scroll|    102| Culture| true|2021-11-22 23:36:22|  5|\n",
      "|104|      3|Пушкин Анатолий А...|2020-07-07|2020-09-23|  3| visit|    105| Science| true|2021-11-22 23:07:43|  5|\n",
      "|104|      3|Пушкин Анатолий А...|2020-07-07|2020-09-23|  3| click|    102|Business|false|2021-12-04 12:43:13|  3|\n",
      "|104|      3|Пушкин Анатолий А...|2020-07-07|2020-09-23|  3| visit|    104| Science| true|2021-12-04 13:48:12|  3|\n",
      "|105|      5|Петрович Олег Ген...|2007-10-16|2023-01-03|  5|scroll|    102|Business| true|2021-12-04 07:20:56|  1|\n",
      "|105|      5|Петрович Олег Ген...|2007-10-16|2023-01-03|  5|scroll|    106|Business|false|2021-11-23 13:17:37|  3|\n",
      "|105|      5|Петрович Олег Ген...|2007-10-16|2023-01-03|  5| click|    104|Business|false|2021-11-22 22:52:23|  5|\n",
      "|105|      5|Петрович Олег Ген...|2007-10-16|2023-01-03|  5| visit|    101|Politics| true|2021-12-05 01:48:52|  0|\n",
      "|105|      5|Петрович Олег Ген...|2007-10-16|2023-01-03|  5|scroll|    101|Politics| true|2021-11-23 10:47:59|  2|\n",
      "|102|      4|Симонова Надежда ...|1995-09-22|2022-12-30|  4| click|    105|Politics|false|2021-11-22 23:04:08|  5|\n",
      "|102|      4|Симонова Надежда ...|1995-09-22|2022-12-30|  4| visit|    105|Politics| true|2021-11-23 01:02:28|  0|\n",
      "|102|      4|Симонова Надежда ...|1995-09-22|2022-12-30|  4| visit|    101| Science| true|2021-11-23 00:29:13|  0|\n",
      "|102|      4|Симонова Надежда ...|1995-09-22|2022-12-30|  4| visit|    105|Business|false|2021-11-23 00:12:01|  0|\n",
      "|102|      4|Симонова Надежда ...|1995-09-22|2022-12-30|  4| visit|    105|   Sport| true|2021-11-22 22:48:54|  5|\n",
      "|102|      4|Симонова Надежда ...|1995-09-22|2022-12-30|  4| click|    101| Culture| true|2021-11-22 23:24:35|  5|\n",
      "|102|      4|Симонова Надежда ...|1995-09-22|2022-12-30|  4| click|    102|Politics|false|2021-11-22 22:57:54|  5|\n",
      "|102|      4|Симонова Надежда ...|1995-09-22|2022-12-30|  4| visit|    101| Culture|false|2021-11-22 22:47:37|  5|\n",
      "|103|      2|Терешкова Надежда...|2010-11-08|2021-05-19|  2| visit|    104| Science|false|2021-11-23 01:02:36|  0|\n",
      "|103|      2|Терешкова Надежда...|2010-11-08|2021-05-19|  2| click|    102| Science| true|2021-11-23 00:44:53|  0|\n",
      "|103|      2|Терешкова Надежда...|2010-11-08|2021-05-19|  2| click|    106|   Sport| true|2021-11-22 22:50:34|  5|\n",
      "|103|      2|Терешкова Надежда...|2010-11-08|2021-05-19|  2| click|    106|Politics| true|2021-11-22 22:49:05|  5|\n",
      "|103|      2|Терешкова Надежда...|2010-11-08|2021-05-19|  2|scroll|    102|   Sport| true|2021-11-22 22:54:10|  5|\n",
      "|103|      2|Терешкова Надежда...|2010-11-08|2021-05-19|  2| visit|    105| Science| true|2021-11-22 22:51:05|  5|\n",
      "+---+-------+--------------------+----------+----------+---+------+-------+--------+-----+-------------------+---+\n",
      "\n"
     ]
    }
   ],
   "source": [
    "# объединим таблицы\n",
    "\n",
    "df_all = df_2.alias(\"lk\").join(dfTime.alias(\"web\"),on = [F.col(\"lk.user_id\")==F.col(\"web.id\")],how = \"left\")\n",
    "df_all.show(100)"
   ]
  },
  {
   "cell_type": "code",
   "execution_count": 200,
   "id": "3dcb4df6",
   "metadata": {},
   "outputs": [
    {
     "name": "stdout",
     "output_type": "stream",
     "text": [
      "+--------------------+\n",
      "|                 fio|\n",
      "+--------------------+\n",
      "|Симонова Надежда ...|\n",
      "|Иванов Иван Иванович|\n",
      "+--------------------+\n",
      "\n"
     ]
    }
   ],
   "source": [
    "# выводим фамилии посетителей, которые читали хотя бы одну новость про спорт\n",
    "\n",
    "df_all.registerTempTable(\"df_table\")\n",
    "spark.sql(\"SELECT DISTINCT fio FROM df_table WHERE tag = 'Sport' AND type = 'visit'\").show()"
   ]
  },
  {
   "cell_type": "code",
   "execution_count": null,
   "id": "7b5dac97",
   "metadata": {},
   "outputs": [],
   "source": []
  }
 ],
 "metadata": {
  "kernelspec": {
   "display_name": "Python 3 (ipykernel)",
   "language": "python",
   "name": "python3"
  },
  "language_info": {
   "codemirror_mode": {
    "name": "ipython",
    "version": 3
   },
   "file_extension": ".py",
   "mimetype": "text/x-python",
   "name": "python",
   "nbconvert_exporter": "python",
   "pygments_lexer": "ipython3",
   "version": "3.9.7"
  }
 },
 "nbformat": 4,
 "nbformat_minor": 5
}
